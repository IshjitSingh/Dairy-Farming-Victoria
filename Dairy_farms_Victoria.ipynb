{
  "cells": [
    {
      "cell_type": "markdown",
      "metadata": {
        "id": "view-in-github",
        "colab_type": "text"
      },
      "source": [
        "<a href=\"https://colab.research.google.com/github/IshjitSingh/Dairy-Farming-Victoria/blob/main/Dairy_farms_Victoria.ipynb\" target=\"_parent\"><img src=\"https://colab.research.google.com/assets/colab-badge.svg\" alt=\"Open In Colab\"/></a>"
      ]
    },
    {
      "cell_type": "code",
      "execution_count": 2,
      "metadata": {
        "id": "Fu7JHiIO7Lud"
      },
      "outputs": [],
      "source": [
        "import requests\n",
        "import pandas as pd\n",
        "from io import StringIO"
      ],
      "id": "Fu7JHiIO7Lud"
    },
    {
      "cell_type": "code",
      "execution_count": 3,
      "metadata": {
        "id": "NVwl8jGGlcZ7"
      },
      "outputs": [],
      "source": [
        "\n",
        "#https://www.longpaddock.qld.gov.au/cgi-bin/silo/PatchedPointDataset.php?format=near&station=30068&radius=100&sortby=name\n",
        "def temperature_data(station,name,distance):\n",
        " #API request to get the station data\n",
        " #&lat=-23.00&lon=135.00&\n",
        " link_init=\"https://www.longpaddock.qld.gov.au/cgi-bin/silo/PatchedPointDataset.php?format=near&station=\"\n",
        " link_end=\"&radius=\"+str(distance)+\"&sortby=name\"\n",
        " link = link_init+str(station)+link_end\n",
        " station_detail=requests.get(link)\n",
        " station_detail = station_detail.text.replace(\"|\", \",\")\n",
        " #convert the extracted data to data frame\n",
        " st_det_csv=StringIO(station_detail)\n",
        " st_det_df=pd.read_csv(st_det_csv,sep=',',header=[0])\n",
        " st_det_vic=st_det_df[(st_det_df.Stat==\"VIC \")]\n",
        " f = requests.get('https://www.longpaddock.qld.gov.au/cgi-bin/silo/PatchedPointDataset.php?start=20060701&finish=20210630&station='+str(station)+'&format=csv&comment=xn&username=ishjit.sachdeva@gmail.com')\n",
        " my_north_csv=StringIO(f.text)\n",
        " temperature_north_col=pd.read_csv(my_north_csv,sep=',',header=[0])\n",
        " data_min = pd.DataFrame(columns = ['Date'])\n",
        " data_max = pd.DataFrame(columns = ['Date'])\n",
        " data_min['Date']=temperature_north_col[\"YYYY-MM-DD\"]\n",
        " data_max['Date']=temperature_north_col[\"YYYY-MM-DD\"]\n",
        " for col in st_det_vic['Number']:\n",
        "   data_min[str(col)+'min']=''\n",
        "   data_max[str(col)+'max']=''\n",
        " #making consolidated dataset\n",
        "\n",
        " url=\"https://www.longpaddock.qld.gov.au/cgi-bin/silo/PatchedPointDataset.php?start=20060701&finish=20210630&station=\"\n",
        " norm_param=\"&format=csv&comment=xn&username=ishjit.sachdeva@gmail.com\"\n",
        " for stnum in st_det_vic['Number']:\n",
        "   st=str(stnum)\n",
        "   my_url=url+st+norm_param\n",
        "   data_api=requests.get(my_url)\n",
        "   csv_api=StringIO(data_api.text)\n",
        "   temperature_df=pd.read_csv(csv_api,sep=',',header=[0])\n",
        "   data_max[str(stnum)+'max']=temperature_df['max_temp']\n",
        "   data_min[str(stnum)+'min']=temperature_df['min_temp']\n",
        "   \n",
        " return data_max,data_min\n",
        "\n",
        "#return data_minmax\n",
        "\n"
      ],
      "id": "NVwl8jGGlcZ7"
    },
    {
      "cell_type": "code",
      "execution_count": 4,
      "metadata": {
        "colab": {
          "base_uri": "https://localhost:8080/"
        },
        "id": "i6UdR10Sto1e",
        "outputId": "6cd73c31-b665-4a23-b96e-153f31288761"
      },
      "outputs": [
        {
          "output_type": "stream",
          "name": "stderr",
          "text": [
            "<ipython-input-3-3421395617f5>:22: PerformanceWarning: DataFrame is highly fragmented.  This is usually the result of calling `frame.insert` many times, which has poor performance.  Consider joining all columns at once using pd.concat(axis=1) instead.  To get a de-fragmented frame, use `newframe = frame.copy()`\n",
            "  data_min[str(col)+'min']=''\n",
            "<ipython-input-3-3421395617f5>:23: PerformanceWarning: DataFrame is highly fragmented.  This is usually the result of calling `frame.insert` many times, which has poor performance.  Consider joining all columns at once using pd.concat(axis=1) instead.  To get a de-fragmented frame, use `newframe = frame.copy()`\n",
            "  data_max[str(col)+'max']=''\n"
          ]
        }
      ],
      "source": [
        "north_max_temp,north_min_temp = temperature_data(81125,'north',75)\n",
        "#north_csv_temp.to_csv('north_temp.csv')\n",
        "#files.download('north_temp.csv')\n",
        "#gippsland files\n",
        "\n",
        "gipps_max_temp,gipps_min_temp=temperature_data(85086,'south',105)\n",
        "#gipps_csv_temp.to_csv('gipps_temp.csv')\n",
        "#files.download('gipps_temp.csv')\n",
        "\n",
        "southwest_max_temp,southwest_min_temp=temperature_data(90082,'southwest',100)\n",
        "#southwest_csv_temp.to_csv('west_temp.csv')\n",
        "#files.download('west_temp.csv')\n"
      ],
      "id": "i6UdR10Sto1e"
    },
    {
      "cell_type": "code",
      "execution_count": null,
      "metadata": {
        "id": "J-OAgw5_DLFR"
      },
      "outputs": [],
      "source": [
        "north_max_temp.to_csv(\"north_max_temp.csv\")\n",
        "north_min_temp.to_csv(\"north_min_temp.csv\")\n",
        "gipps_max_temp.to_csv(\"gipps_max_temp.csv\")\n",
        "gipps_min_temp.to_csv(\"gipps_min_temp.csv\")\n",
        "southwest_max_temp.to_csv(\"sw_max_temp.csv\")\n",
        "southwest_min_temp.to_csv(\"sw_min_temp.csv\")"
      ],
      "id": "J-OAgw5_DLFR"
    },
    {
      "cell_type": "code",
      "execution_count": null,
      "metadata": {
        "colab": {
          "base_uri": "https://localhost:8080/"
        },
        "id": "mGp-JcDgAyS5",
        "outputId": "10e53641-160c-48b3-f9ba-ddc48c374ba1"
      },
      "outputs": [
        {
          "output_type": "stream",
          "name": "stderr",
          "text": [
            "/usr/local/lib/python3.7/dist-packages/ipykernel_launcher.py:20: PerformanceWarning: DataFrame is highly fragmented.  This is usually the result of calling `frame.insert` many times, which has poor performance.  Consider joining all columns at once using pd.concat(axis=1) instead.  To get a de-fragmented frame, use `newframe = frame.copy()`\n"
          ]
        }
      ],
      "source": [
        "north_csv_rain=rain_data_f(81125,'north',100)\n",
        "#north_csv_rain.to_csv('north_rain.csv')\n",
        "#files.download('north_rain.csv')\n",
        "\n",
        "gipps_csv_rain=rain_data_f(85086,'south',105)\n",
        "#gipps_csv_rain.to_csv('gipps_rain.csv')\n",
        "#files.download('gipps_rain.csv')\n",
        "\n",
        "southwest_csv_rain=rain_data_f(90082,'southwest',150)\n",
        "#southwest_csv_rain.to_csv('west_rain.csv')\n",
        "#files.download('west_rain.csv')"
      ],
      "id": "mGp-JcDgAyS5"
    },
    {
      "cell_type": "code",
      "execution_count": null,
      "metadata": {
        "id": "3Yd9dgCOifTX"
      },
      "outputs": [],
      "source": [
        "from google.colab import drive\n",
        "drive.mount('/content/drive')"
      ],
      "id": "3Yd9dgCOifTX"
    },
    {
      "cell_type": "code",
      "execution_count": null,
      "metadata": {
        "id": "gUmcwLH6vnIB"
      },
      "outputs": [],
      "source": [
        "\n",
        "def rain_data(station,name,distance):\n",
        " #API request to get the station data\n",
        " link_init=\"https://www.longpaddock.qld.gov.au/cgi-bin/silo/PatchedPointDataset.php?format=near&station=\"\n",
        " link_end=\"&radius=\"+str(distance)+\"&sortby=name\"\n",
        " link = link_init+str(station)+link_end\n",
        " station_detail=requests.get(link)\n",
        " station_detail = station_detail.text.replace(\"|\", \",\")\n",
        " #convert the extracted data to data frame\n",
        " st_det_csv=StringIO(station_detail)\n",
        " st_det_df=pd.read_csv(st_det_csv,sep=',',header=[0])\n",
        " st_det_vic=st_det_df[(st_det_df.Stat==\"VIC \")]\n",
        " f = requests.get('https://www.longpaddock.qld.gov.au/cgi-bin/silo/PatchedPointDataset.php?start=20060701&finish=20210630&station='+str(station)+'&format=csv&comment=r&username=ishjit.sachdeva@gmail.com')\n",
        " my_north_csv=StringIO(f.text)\n",
        " temperature_north_col=pd.read_csv(my_north_csv,sep=',',header=[0])\n",
        " temperature_north_col\n",
        " data_minmax = pd.DataFrame(columns = ['Date'])\n",
        " data_minmax['Date']=temperature_north_col['YYYY-MM-DD']\n",
        " data_minmax\n",
        " for col in st_det_vic['Number']:\n",
        "   data_minmax[str(col)]=''\n",
        " #making consolidated dataset\n",
        " url=\"https://www.longpaddock.qld.gov.au/cgi-bin/silo/PatchedPointDataset.php?start=20060701&finish=20200630&station=\"\n",
        " norm_param=\"&format=csv&comment=r&username=ishjit.sachdeva@gmail.com\"\n",
        " for stnum in st_det_vic['Number']:\n",
        "   st=str(stnum)\n",
        "   my_url=url+st+norm_param\n",
        "   data_api=requests.get(my_url)\n",
        "   csv_api=StringIO(my_data_api.text)\n",
        "   temperature_df=pd.read_csv(csv_api,sep=',',header=[0])\n",
        "   data_minmax[str(stnum)]=temperature_df['daily_rain']\n",
        "   \n",
        " return data_minmax\n",
        "\n",
        "#return data_minmax\n",
        "\n"
      ],
      "id": "gUmcwLH6vnIB"
    },
    {
      "cell_type": "code",
      "execution_count": null,
      "metadata": {
        "id": "ZdZO_xrXi_T2"
      },
      "outputs": [],
      "source": [
        "def rain_data_f(station,name,distance):\n",
        " #API request to get the station data\n",
        " link_init=\"https://www.longpaddock.qld.gov.au/cgi-bin/silo/PatchedPointDataset.php?format=near&station=\"\n",
        " link_end=\"&radius=\"+str(distance)+\"&sortby=name\"\n",
        " link = link_init+str(station)+link_end\n",
        " station_detail=requests.get(link)\n",
        " station_detail = station_detail.text.replace(\"|\", \",\")\n",
        " #convert the extracted data to data frame\n",
        " st_det_csv=StringIO(station_detail)\n",
        " st_det_df=pd.read_csv(st_det_csv,sep=',',header=[0])\n",
        " st_det_vic=st_det_df[(st_det_df.Stat==\"VIC \")]\n",
        " f = requests.get('https://www.longpaddock.qld.gov.au/cgi-bin/silo/PatchedPointDataset.php?start=20060701&finish=20210630&station='+str(station)+'&format=csv&comment=r&username=ishjit.sachdeva@gmail.com')\n",
        " my_north_csv=StringIO(f.text)\n",
        " temperature_north_col=pd.read_csv(my_north_csv,sep=',',header=[0])\n",
        " temperature_north_col\n",
        " data_minmax = pd.DataFrame(columns = ['Date'])\n",
        " data_minmax['Date']=temperature_north_col['YYYY-MM-DD']\n",
        " data_minmax\n",
        " for col in st_det_vic['Number']:\n",
        "   data_minmax[str(col)]=''\n",
        " #making consolidated dataset\n",
        " url=\"https://www.longpaddock.qld.gov.au/cgi-bin/silo/PatchedPointDataset.php?start=20060701&finish=20210630&station=\"\n",
        " norm_param=\"&format=csv&comment=r&username=ishjit.sachdeva@gmail.com\"\n",
        " for stnum in st_det_vic['Number']:\n",
        "   st=str(stnum)\n",
        "   my_url=url+st+norm_param\n",
        "   data_api=requests.get(my_url)\n",
        "   csv_api=StringIO(data_api.text)\n",
        "   temperature_df=pd.read_csv(csv_api,sep=',',header=[0])\n",
        "   data_minmax[str(stnum)]=temperature_df['daily_rain']\n",
        " return data_minmax  \n",
        "#rain_south=rain_data_f(81125,'south',100)   "
      ],
      "id": "ZdZO_xrXi_T2"
    },
    {
      "cell_type": "code",
      "execution_count": null,
      "metadata": {
        "id": "WHtPVLZ9ZCZH"
      },
      "outputs": [],
      "source": [
        "def temperature_data_historical(station,name,distance):\n",
        " #API request to get the station data\n",
        " #&lat=-23.00&lon=135.00&\n",
        " link_init=\"https://www.longpaddock.qld.gov.au/cgi-bin/silo/PatchedPointDataset.php?format=near&station=\"\n",
        " link_end=\"&radius=\"+str(distance)+\"&sortby=name\"\n",
        " link = link_init+str(station)+link_end\n",
        " station_detail=requests.get(link)\n",
        " station_detail = station_detail.text.replace(\"|\", \",\")\n",
        " #convert the extracted data to data frame\n",
        " st_det_csv=StringIO(station_detail)\n",
        " st_det_df=pd.read_csv(st_det_csv,sep=',',header=[0])\n",
        " st_det_vic=st_det_df[(st_det_df.Stat==\"VIC \")]\n",
        " f = requests.get('https://www.longpaddock.qld.gov.au/cgi-bin/silo/PatchedPointDataset.php?start=19100101&finish=20200630&station='+str(station)+'&format=csv&comment=xn&username=ishjit.sachdeva@gmail.com')\n",
        " my_north_csv=StringIO(f.text)\n",
        " temperature_north_col=pd.read_csv(my_north_csv,sep=',',header=[0])\n",
        " data_min = pd.DataFrame(columns = ['Date'])\n",
        " data_max = pd.DataFrame(columns = ['Date'])\n",
        " data_min['Date']=temperature_north_col[\"YYYY-MM-DD\"]\n",
        " data_max['Date']=temperature_north_col[\"YYYY-MM-DD\"]\n",
        " for col in st_det_vic['Number']:\n",
        "   data_min[str(col)+'min']=''\n",
        "   data_max[str(col)+'max']=''\n",
        " #making consolidated dataset\n",
        "\n",
        " url=\"https://www.longpaddock.qld.gov.au/cgi-bin/silo/PatchedPointDataset.php?start=19100101&finish=20200630&station=\"\n",
        " norm_param=\"&format=csv&comment=xn&username=ishjit.sachdeva@gmail.com\"\n",
        " for stnum in st_det_vic['Number']:\n",
        "   st=str(stnum)\n",
        "   my_url=url+st+norm_param\n",
        "   data_api=requests.get(my_url)\n",
        "   csv_api=StringIO(data_api.text)\n",
        "   temperature_df=pd.read_csv(csv_api,sep=',',header=[0])\n",
        "   data_max[str(stnum)+'max']=temperature_df['max_temp']\n",
        "   data_min[str(stnum)+'min']=temperature_df['min_temp']\n",
        "   \n",
        " return data_max,data_min"
      ],
      "id": "WHtPVLZ9ZCZH"
    },
    {
      "cell_type": "code",
      "execution_count": null,
      "metadata": {
        "colab": {
          "base_uri": "https://localhost:8080/",
          "height": 235
        },
        "id": "H4dGWX3Cf6g8",
        "outputId": "1fc0ec17-d868-42f0-8043-a3265dd48bff"
      },
      "outputs": [
        {
          "output_type": "error",
          "ename": "NameError",
          "evalue": "ignored",
          "traceback": [
            "\u001b[0;31m---------------------------------------------------------------------------\u001b[0m",
            "\u001b[0;31mNameError\u001b[0m                                 Traceback (most recent call last)",
            "\u001b[0;32m<ipython-input-4-8f6b19167f9a>\u001b[0m in \u001b[0;36m<module>\u001b[0;34m\u001b[0m\n\u001b[0;32m----> 1\u001b[0;31m \u001b[0mnorth_max_temp_hist\u001b[0m\u001b[0;34m,\u001b[0m\u001b[0mnorth_min_temp_hist\u001b[0m \u001b[0;34m=\u001b[0m \u001b[0mtemperature_data_historical\u001b[0m\u001b[0;34m(\u001b[0m\u001b[0;36m81125\u001b[0m\u001b[0;34m,\u001b[0m\u001b[0;34m'north'\u001b[0m\u001b[0;34m,\u001b[0m\u001b[0;36m100\u001b[0m\u001b[0;34m)\u001b[0m\u001b[0;34m\u001b[0m\u001b[0;34m\u001b[0m\u001b[0m\n\u001b[0m\u001b[1;32m      2\u001b[0m \u001b[0;31m#north_max_temp_hist.to_csv('north_temp_max_hist.csv')\u001b[0m\u001b[0;34m\u001b[0m\u001b[0;34m\u001b[0m\u001b[0;34m\u001b[0m\u001b[0m\n\u001b[1;32m      3\u001b[0m \u001b[0;31m#north_min_temp_hist.to_csv('north_temp_min_hist.csv')\u001b[0m\u001b[0;34m\u001b[0m\u001b[0;34m\u001b[0m\u001b[0;34m\u001b[0m\u001b[0m\n\u001b[1;32m      4\u001b[0m \u001b[0;31m#files.download('north_temp.csv')\u001b[0m\u001b[0;34m\u001b[0m\u001b[0;34m\u001b[0m\u001b[0;34m\u001b[0m\u001b[0m\n\u001b[1;32m      5\u001b[0m \u001b[0;31m#gippsland files\u001b[0m\u001b[0;34m\u001b[0m\u001b[0;34m\u001b[0m\u001b[0;34m\u001b[0m\u001b[0m\n",
            "\u001b[0;31mNameError\u001b[0m: name 'temperature_data_historical' is not defined"
          ]
        }
      ],
      "source": [
        "north_max_temp_hist,north_min_temp_hist = temperature_data_historical(81125,'north',100)\n",
        "#north_max_temp_hist.to_csv('north_temp_max_hist.csv')\n",
        "#north_min_temp_hist.to_csv('north_temp_min_hist.csv')\n",
        "#files.download('north_temp.csv')\n",
        "#gippsland files\n",
        "gipps_max_temp_hist,gipps_min_temp_hist=temperature_data_historical(85086,'south',105)\n",
        "#gipps_min_temp_hist.to_csv('gipps_min_temp_hist.csv')\n",
        "#gipps_max_temp_hist.to_csv('gipps_max_temp_hist.csv')\n",
        "#files.download('gipps_temp.csv')\n",
        "\n",
        "southwest_max_temp_hist,southwest_min_temp_hist=temperature_data_historical(90082,'southwest',150)\n",
        "#southwest_max_temp_hist.to_csv('west_temp_max.csv')\n",
        "#southwest_min_temp_hist.to_csv('west_temp_min.csv')\n",
        "#files.download('west_temp.csv')\n"
      ],
      "id": "H4dGWX3Cf6g8"
    },
    {
      "cell_type": "code",
      "source": [
        "north_max_temp_hist.shape\n",
        "north_max_temp_hist=Fin_year(north_max_temp_hist)\n",
        "north_max_temp_hist=north_max_temp_hist.sort_values(by=['D_avg'], ascending=False)\n",
        "\n",
        "\n",
        "\n"
      ],
      "metadata": {
        "id": "AI4QDSKx6__k"
      },
      "id": "AI4QDSKx6__k",
      "execution_count": null,
      "outputs": []
    },
    {
      "cell_type": "code",
      "source": [
        "def hottest_rows(dataset):\n",
        "  dataset=Fin_year(dataset)\n",
        "  dataset=dataset.sort_values(by=['D_avg'], ascending=False)\n",
        "  dataset=dataset.head(404)\n",
        "  minima=dataset['D_avg'].min()\n",
        "  return minima\n"
      ],
      "metadata": {
        "id": "-huPHaKz78ub"
      },
      "id": "-huPHaKz78ub",
      "execution_count": null,
      "outputs": []
    },
    {
      "cell_type": "code",
      "source": [
        "def in_top1(df,minima):\n",
        "  df['c30']=df['D_avg'].map(lambda x: x>minima)\n",
        "  return df\n",
        "\n",
        "#N_max_d['c30']=N_max_d['D_avg'].map(lambda x: x>35.0)"
      ],
      "metadata": {
        "id": "nktptkxa-R1C"
      },
      "id": "nktptkxa-R1C",
      "execution_count": null,
      "outputs": []
    },
    {
      "cell_type": "code",
      "source": [
        "north_minima=hottest_rows(north_max_temp_hist)\n",
        "gipps_minima=hottest_rows(gipps_max_temp_hist)\n",
        "sw_minima=hottest_rows(southwest_max_temp_hist)\n",
        "\n",
        "north_max_temp=in_top1(north_max_temp,north_minima)\n",
        "gipps_max_temp=in_top1(gipps_max_temp,gipps_minima)\n",
        "southwest_max_temp=in_top1(southwest_max_temp,sw_minima)"
      ],
      "metadata": {
        "id": "jVbP4YP3_Iq7"
      },
      "id": "jVbP4YP3_Iq7",
      "execution_count": null,
      "outputs": []
    },
    {
      "cell_type": "code",
      "execution_count": null,
      "metadata": {
        "id": "Qb6Cjuu64vxC"
      },
      "outputs": [],
      "source": [
        "# Return a data frame with the longest trend of 90 degrees fahrenheit per year\n",
        "from itertools import groupby\n",
        "\n",
        "# Return a list of the length of each consecutive trend\n",
        "def groups(list):\n",
        "    return [sum(g) for i, g in groupby(list) if i==1]\n",
        "def consecutive_F90(dfl):\n",
        "    \n",
        "    #F90: Maximum consecutive days where tmax was 90 degrees fahrenheit or higher\n",
        "    #\"\"\"\n",
        "    consecutive_days = []\n",
        "    years = []\n",
        "    for year in range(dfl['FYear'].min(), dfl['FYear'].max()+1):\n",
        "        if sum(dfl[dfl['FYear']==year]['c30'])==0:\n",
        "            consecutive_days.append(0)\n",
        "            years.append(year)\n",
        "        else:\n",
        "            consecutive_days.append((groups(dfl[dfl['FYear']==year]['c30'])))\n",
        "            years.append(year)\n",
        "    #return pd.DataFrame(list(zip(years, consecutive_days)), columns=['FYear', 'c30'])\n",
        "    new_df=pd.DataFrame(list(zip(years, consecutive_days)), columns=['FYear', 'c30'])\n",
        "    for y in range(0,len(new_df)):\n",
        "      new_sum=sum(i >=3 for i in new_df.iloc[y]['c30'])\n",
        "      new_df.at[y,\"count_1\"]=new_sum\n",
        "    return new_df\n",
        "\n",
        "\n"
      ],
      "id": "Qb6Cjuu64vxC"
    },
    {
      "cell_type": "code",
      "source": [
        "north_count=consecutive_F90(north_max_temp)\n",
        "gipps_count=consecutive_F90(gipps_max_temp)\n",
        "sw_count=consecutive_F90(southwest_max_temp)"
      ],
      "metadata": {
        "id": "dQdfQ8PbINAB"
      },
      "id": "dQdfQ8PbINAB",
      "execution_count": null,
      "outputs": []
    },
    {
      "cell_type": "code",
      "source": [
        "for y in range(0,len(north_count)):\n",
        "  sum1=sum(i >=3 for i in north_count.iloc[y]['c30'])\n",
        "  north_count.at[y,\"count_1\"]=sum1\n",
        "   "
      ],
      "metadata": {
        "id": "FFt9l3xoIjT3"
      },
      "id": "FFt9l3xoIjT3",
      "execution_count": null,
      "outputs": []
    },
    {
      "cell_type": "code",
      "source": [
        "sw_count"
      ],
      "metadata": {
        "colab": {
          "base_uri": "https://localhost:8080/",
          "height": 520
        },
        "id": "zWlD1BXvQBV9",
        "outputId": "6fff5030-a561-479b-a6c2-5614900efae8"
      },
      "id": "zWlD1BXvQBV9",
      "execution_count": null,
      "outputs": [
        {
          "output_type": "execute_result",
          "data": {
            "text/plain": [
              "    FYear                                                c30  count_1\n",
              "0    2007  [1, 1, 1, 2, 4, 1, 8, 3, 3, 5, 2, 5, 4, 3, 1, ...     15.0\n",
              "1    2008  [3, 1, 5, 2, 5, 1, 1, 2, 1, 1, 1, 1, 1, 1, 2, ...     13.0\n",
              "2    2009  [1, 1, 4, 2, 1, 4, 2, 1, 5, 4, 8, 2, 18, 16, 3...     12.0\n",
              "3    2010  [1, 1, 2, 1, 1, 2, 3, 2, 2, 1, 1, 2, 3, 6, 9, ...      9.0\n",
              "4    2011  [1, 1, 1, 2, 5, 3, 1, 3, 5, 1, 8, 1, 2, 9, 20,...     12.0\n",
              "5    2012  [1, 4, 1, 5, 4, 1, 4, 2, 2, 6, 3, 7, 3, 1, 141...     13.0\n",
              "6    2013  [1, 1, 3, 2, 4, 2, 3, 3, 3, 3, 4, 179, 2, 7, 1...     10.0\n",
              "7    2014  [1, 2, 1, 9, 1, 3, 5, 1, 2, 2, 3, 2, 2, 3, 3, ...     12.0\n",
              "8    2015  [2, 5, 5, 2, 3, 5, 4, 5, 15, 141, 1, 9, 9, 1, ...     13.0\n",
              "9    2016  [2, 4, 1, 3, 6, 4, 8, 3, 14, 15, 147, 8, 1, 5,...     12.0\n",
              "10   2017  [1, 1, 2, 1, 2, 3, 1, 1, 1, 1, 1, 4, 2, 1, 2, ...     10.0\n",
              "11   2018  [1, 3, 2, 1, 1, 4, 1, 1, 2, 2, 2, 7, 7, 1, 1, ...      8.0\n",
              "12   2019  [2, 1, 1, 1, 2, 3, 2, 2, 1, 1, 2, 4, 4, 9, 17,...     12.0\n",
              "13   2020  [1, 1, 1, 1, 3, 1, 3, 3, 1, 3, 2, 5, 1, 5, 7, ...     15.0\n",
              "14   2021  [1, 1, 2, 3, 1, 3, 2, 1, 4, 6, 6, 4, 4, 4, 30,...     15.0"
            ],
            "text/html": [
              "\n",
              "  <div id=\"df-cebf9aa3-beb9-4c7c-8df9-8423001ba822\">\n",
              "    <div class=\"colab-df-container\">\n",
              "      <div>\n",
              "<style scoped>\n",
              "    .dataframe tbody tr th:only-of-type {\n",
              "        vertical-align: middle;\n",
              "    }\n",
              "\n",
              "    .dataframe tbody tr th {\n",
              "        vertical-align: top;\n",
              "    }\n",
              "\n",
              "    .dataframe thead th {\n",
              "        text-align: right;\n",
              "    }\n",
              "</style>\n",
              "<table border=\"1\" class=\"dataframe\">\n",
              "  <thead>\n",
              "    <tr style=\"text-align: right;\">\n",
              "      <th></th>\n",
              "      <th>FYear</th>\n",
              "      <th>c30</th>\n",
              "      <th>count_1</th>\n",
              "    </tr>\n",
              "  </thead>\n",
              "  <tbody>\n",
              "    <tr>\n",
              "      <th>0</th>\n",
              "      <td>2007</td>\n",
              "      <td>[1, 1, 1, 2, 4, 1, 8, 3, 3, 5, 2, 5, 4, 3, 1, ...</td>\n",
              "      <td>15.0</td>\n",
              "    </tr>\n",
              "    <tr>\n",
              "      <th>1</th>\n",
              "      <td>2008</td>\n",
              "      <td>[3, 1, 5, 2, 5, 1, 1, 2, 1, 1, 1, 1, 1, 1, 2, ...</td>\n",
              "      <td>13.0</td>\n",
              "    </tr>\n",
              "    <tr>\n",
              "      <th>2</th>\n",
              "      <td>2009</td>\n",
              "      <td>[1, 1, 4, 2, 1, 4, 2, 1, 5, 4, 8, 2, 18, 16, 3...</td>\n",
              "      <td>12.0</td>\n",
              "    </tr>\n",
              "    <tr>\n",
              "      <th>3</th>\n",
              "      <td>2010</td>\n",
              "      <td>[1, 1, 2, 1, 1, 2, 3, 2, 2, 1, 1, 2, 3, 6, 9, ...</td>\n",
              "      <td>9.0</td>\n",
              "    </tr>\n",
              "    <tr>\n",
              "      <th>4</th>\n",
              "      <td>2011</td>\n",
              "      <td>[1, 1, 1, 2, 5, 3, 1, 3, 5, 1, 8, 1, 2, 9, 20,...</td>\n",
              "      <td>12.0</td>\n",
              "    </tr>\n",
              "    <tr>\n",
              "      <th>5</th>\n",
              "      <td>2012</td>\n",
              "      <td>[1, 4, 1, 5, 4, 1, 4, 2, 2, 6, 3, 7, 3, 1, 141...</td>\n",
              "      <td>13.0</td>\n",
              "    </tr>\n",
              "    <tr>\n",
              "      <th>6</th>\n",
              "      <td>2013</td>\n",
              "      <td>[1, 1, 3, 2, 4, 2, 3, 3, 3, 3, 4, 179, 2, 7, 1...</td>\n",
              "      <td>10.0</td>\n",
              "    </tr>\n",
              "    <tr>\n",
              "      <th>7</th>\n",
              "      <td>2014</td>\n",
              "      <td>[1, 2, 1, 9, 1, 3, 5, 1, 2, 2, 3, 2, 2, 3, 3, ...</td>\n",
              "      <td>12.0</td>\n",
              "    </tr>\n",
              "    <tr>\n",
              "      <th>8</th>\n",
              "      <td>2015</td>\n",
              "      <td>[2, 5, 5, 2, 3, 5, 4, 5, 15, 141, 1, 9, 9, 1, ...</td>\n",
              "      <td>13.0</td>\n",
              "    </tr>\n",
              "    <tr>\n",
              "      <th>9</th>\n",
              "      <td>2016</td>\n",
              "      <td>[2, 4, 1, 3, 6, 4, 8, 3, 14, 15, 147, 8, 1, 5,...</td>\n",
              "      <td>12.0</td>\n",
              "    </tr>\n",
              "    <tr>\n",
              "      <th>10</th>\n",
              "      <td>2017</td>\n",
              "      <td>[1, 1, 2, 1, 2, 3, 1, 1, 1, 1, 1, 4, 2, 1, 2, ...</td>\n",
              "      <td>10.0</td>\n",
              "    </tr>\n",
              "    <tr>\n",
              "      <th>11</th>\n",
              "      <td>2018</td>\n",
              "      <td>[1, 3, 2, 1, 1, 4, 1, 1, 2, 2, 2, 7, 7, 1, 1, ...</td>\n",
              "      <td>8.0</td>\n",
              "    </tr>\n",
              "    <tr>\n",
              "      <th>12</th>\n",
              "      <td>2019</td>\n",
              "      <td>[2, 1, 1, 1, 2, 3, 2, 2, 1, 1, 2, 4, 4, 9, 17,...</td>\n",
              "      <td>12.0</td>\n",
              "    </tr>\n",
              "    <tr>\n",
              "      <th>13</th>\n",
              "      <td>2020</td>\n",
              "      <td>[1, 1, 1, 1, 3, 1, 3, 3, 1, 3, 2, 5, 1, 5, 7, ...</td>\n",
              "      <td>15.0</td>\n",
              "    </tr>\n",
              "    <tr>\n",
              "      <th>14</th>\n",
              "      <td>2021</td>\n",
              "      <td>[1, 1, 2, 3, 1, 3, 2, 1, 4, 6, 6, 4, 4, 4, 30,...</td>\n",
              "      <td>15.0</td>\n",
              "    </tr>\n",
              "  </tbody>\n",
              "</table>\n",
              "</div>\n",
              "      <button class=\"colab-df-convert\" onclick=\"convertToInteractive('df-cebf9aa3-beb9-4c7c-8df9-8423001ba822')\"\n",
              "              title=\"Convert this dataframe to an interactive table.\"\n",
              "              style=\"display:none;\">\n",
              "        \n",
              "  <svg xmlns=\"http://www.w3.org/2000/svg\" height=\"24px\"viewBox=\"0 0 24 24\"\n",
              "       width=\"24px\">\n",
              "    <path d=\"M0 0h24v24H0V0z\" fill=\"none\"/>\n",
              "    <path d=\"M18.56 5.44l.94 2.06.94-2.06 2.06-.94-2.06-.94-.94-2.06-.94 2.06-2.06.94zm-11 1L8.5 8.5l.94-2.06 2.06-.94-2.06-.94L8.5 2.5l-.94 2.06-2.06.94zm10 10l.94 2.06.94-2.06 2.06-.94-2.06-.94-.94-2.06-.94 2.06-2.06.94z\"/><path d=\"M17.41 7.96l-1.37-1.37c-.4-.4-.92-.59-1.43-.59-.52 0-1.04.2-1.43.59L10.3 9.45l-7.72 7.72c-.78.78-.78 2.05 0 2.83L4 21.41c.39.39.9.59 1.41.59.51 0 1.02-.2 1.41-.59l7.78-7.78 2.81-2.81c.8-.78.8-2.07 0-2.86zM5.41 20L4 18.59l7.72-7.72 1.47 1.35L5.41 20z\"/>\n",
              "  </svg>\n",
              "      </button>\n",
              "      \n",
              "  <style>\n",
              "    .colab-df-container {\n",
              "      display:flex;\n",
              "      flex-wrap:wrap;\n",
              "      gap: 12px;\n",
              "    }\n",
              "\n",
              "    .colab-df-convert {\n",
              "      background-color: #E8F0FE;\n",
              "      border: none;\n",
              "      border-radius: 50%;\n",
              "      cursor: pointer;\n",
              "      display: none;\n",
              "      fill: #1967D2;\n",
              "      height: 32px;\n",
              "      padding: 0 0 0 0;\n",
              "      width: 32px;\n",
              "    }\n",
              "\n",
              "    .colab-df-convert:hover {\n",
              "      background-color: #E2EBFA;\n",
              "      box-shadow: 0px 1px 2px rgba(60, 64, 67, 0.3), 0px 1px 3px 1px rgba(60, 64, 67, 0.15);\n",
              "      fill: #174EA6;\n",
              "    }\n",
              "\n",
              "    [theme=dark] .colab-df-convert {\n",
              "      background-color: #3B4455;\n",
              "      fill: #D2E3FC;\n",
              "    }\n",
              "\n",
              "    [theme=dark] .colab-df-convert:hover {\n",
              "      background-color: #434B5C;\n",
              "      box-shadow: 0px 1px 3px 1px rgba(0, 0, 0, 0.15);\n",
              "      filter: drop-shadow(0px 1px 2px rgba(0, 0, 0, 0.3));\n",
              "      fill: #FFFFFF;\n",
              "    }\n",
              "  </style>\n",
              "\n",
              "      <script>\n",
              "        const buttonEl =\n",
              "          document.querySelector('#df-cebf9aa3-beb9-4c7c-8df9-8423001ba822 button.colab-df-convert');\n",
              "        buttonEl.style.display =\n",
              "          google.colab.kernel.accessAllowed ? 'block' : 'none';\n",
              "\n",
              "        async function convertToInteractive(key) {\n",
              "          const element = document.querySelector('#df-cebf9aa3-beb9-4c7c-8df9-8423001ba822');\n",
              "          const dataTable =\n",
              "            await google.colab.kernel.invokeFunction('convertToInteractive',\n",
              "                                                     [key], {});\n",
              "          if (!dataTable) return;\n",
              "\n",
              "          const docLinkHtml = 'Like what you see? Visit the ' +\n",
              "            '<a target=\"_blank\" href=https://colab.research.google.com/notebooks/data_table.ipynb>data table notebook</a>'\n",
              "            + ' to learn more about interactive tables.';\n",
              "          element.innerHTML = '';\n",
              "          dataTable['output_type'] = 'display_data';\n",
              "          await google.colab.output.renderOutput(dataTable, element);\n",
              "          const docLink = document.createElement('div');\n",
              "          docLink.innerHTML = docLinkHtml;\n",
              "          element.appendChild(docLink);\n",
              "        }\n",
              "      </script>\n",
              "    </div>\n",
              "  </div>\n",
              "  "
            ]
          },
          "metadata": {},
          "execution_count": 201
        }
      ]
    },
    {
      "cell_type": "code",
      "source": [
        "#north_count.at[1,'count']=2\n",
        "north_count"
      ],
      "metadata": {
        "colab": {
          "base_uri": "https://localhost:8080/",
          "height": 520
        },
        "id": "6VgyFGKaOico",
        "outputId": "16d66640-cb43-4a3c-8731-c4666db4f294"
      },
      "id": "6VgyFGKaOico",
      "execution_count": null,
      "outputs": [
        {
          "output_type": "execute_result",
          "data": {
            "text/plain": [
              "    FYear                                                c30  (1, count)  \\\n",
              "0    2007  [2, 1, 3, 2, 2, 1, 1, 4, 1, 1, 3, 3, 4, 4, 7, ...           2   \n",
              "1    2008  [2, 5, 2, 2, 1, 2, 1, 1, 1, 17, 1, 1, 6, 2, 1,...           2   \n",
              "2    2009  [1, 3, 1, 1, 1, 3, 4, 4, 6, 15, 1, 2, 2, 2, 1,...           2   \n",
              "3    2010  [4, 9, 3, 1, 1, 1, 3, 4, 6, 2, 6, 2, 3, 5, 5, ...           2   \n",
              "4    2011               [2, 3, 2, 1, 4, 3, 2, 4, 6, 1, 1, 1]           2   \n",
              "5    2012     [1, 1, 1, 1, 2, 1, 2, 3, 5, 1, 15, 2, 3, 1, 4]           2   \n",
              "6    2013  [2, 1, 2, 4, 1, 3, 1, 3, 1, 2, 6, 2, 4, 6, 1, ...           2   \n",
              "7    2014  [1, 1, 1, 1, 3, 1, 7, 1, 1, 12, 2, 18, 1, 3, 2...           2   \n",
              "8    2015  [1, 2, 1, 2, 3, 1, 2, 4, 1, 1, 3, 3, 2, 8, 1, ...           2   \n",
              "9    2016  [3, 1, 1, 1, 1, 3, 1, 1, 5, 1, 7, 4, 5, 6, 5, ...           2   \n",
              "10   2017  [1, 2, 1, 2, 10, 5, 1, 1, 2, 1, 2, 4, 2, 5, 2,...           2   \n",
              "11   2018  [1, 5, 6, 3, 8, 2, 3, 1, 5, 3, 14, 7, 4, 2, 1,...           2   \n",
              "12   2019   [3, 1, 1, 4, 2, 1, 12, 2, 16, 3, 7, 4, 12, 1, 7]           2   \n",
              "13   2020  [1, 1, 3, 2, 1, 2, 2, 4, 9, 4, 3, 3, 3, 1, 7, ...           2   \n",
              "14   2021  [1, 2, 1, 4, 1, 2, 1, 4, 2, 2, 1, 6, 6, 1, 3, ...           2   \n",
              "\n",
              "    count  \n",
              "0    10.0  \n",
              "1     2.0  \n",
              "2     NaN  \n",
              "3     NaN  \n",
              "4     NaN  \n",
              "5     NaN  \n",
              "6     NaN  \n",
              "7     NaN  \n",
              "8     NaN  \n",
              "9     NaN  \n",
              "10    NaN  \n",
              "11    NaN  \n",
              "12    NaN  \n",
              "13    NaN  \n",
              "14    NaN  "
            ],
            "text/html": [
              "\n",
              "  <div id=\"df-f59d7d78-5b7c-437e-8d89-e2d8e2597273\">\n",
              "    <div class=\"colab-df-container\">\n",
              "      <div>\n",
              "<style scoped>\n",
              "    .dataframe tbody tr th:only-of-type {\n",
              "        vertical-align: middle;\n",
              "    }\n",
              "\n",
              "    .dataframe tbody tr th {\n",
              "        vertical-align: top;\n",
              "    }\n",
              "\n",
              "    .dataframe thead th {\n",
              "        text-align: right;\n",
              "    }\n",
              "</style>\n",
              "<table border=\"1\" class=\"dataframe\">\n",
              "  <thead>\n",
              "    <tr style=\"text-align: right;\">\n",
              "      <th></th>\n",
              "      <th>FYear</th>\n",
              "      <th>c30</th>\n",
              "      <th>(1, count)</th>\n",
              "      <th>count</th>\n",
              "    </tr>\n",
              "  </thead>\n",
              "  <tbody>\n",
              "    <tr>\n",
              "      <th>0</th>\n",
              "      <td>2007</td>\n",
              "      <td>[2, 1, 3, 2, 2, 1, 1, 4, 1, 1, 3, 3, 4, 4, 7, ...</td>\n",
              "      <td>2</td>\n",
              "      <td>10.0</td>\n",
              "    </tr>\n",
              "    <tr>\n",
              "      <th>1</th>\n",
              "      <td>2008</td>\n",
              "      <td>[2, 5, 2, 2, 1, 2, 1, 1, 1, 17, 1, 1, 6, 2, 1,...</td>\n",
              "      <td>2</td>\n",
              "      <td>2.0</td>\n",
              "    </tr>\n",
              "    <tr>\n",
              "      <th>2</th>\n",
              "      <td>2009</td>\n",
              "      <td>[1, 3, 1, 1, 1, 3, 4, 4, 6, 15, 1, 2, 2, 2, 1,...</td>\n",
              "      <td>2</td>\n",
              "      <td>NaN</td>\n",
              "    </tr>\n",
              "    <tr>\n",
              "      <th>3</th>\n",
              "      <td>2010</td>\n",
              "      <td>[4, 9, 3, 1, 1, 1, 3, 4, 6, 2, 6, 2, 3, 5, 5, ...</td>\n",
              "      <td>2</td>\n",
              "      <td>NaN</td>\n",
              "    </tr>\n",
              "    <tr>\n",
              "      <th>4</th>\n",
              "      <td>2011</td>\n",
              "      <td>[2, 3, 2, 1, 4, 3, 2, 4, 6, 1, 1, 1]</td>\n",
              "      <td>2</td>\n",
              "      <td>NaN</td>\n",
              "    </tr>\n",
              "    <tr>\n",
              "      <th>5</th>\n",
              "      <td>2012</td>\n",
              "      <td>[1, 1, 1, 1, 2, 1, 2, 3, 5, 1, 15, 2, 3, 1, 4]</td>\n",
              "      <td>2</td>\n",
              "      <td>NaN</td>\n",
              "    </tr>\n",
              "    <tr>\n",
              "      <th>6</th>\n",
              "      <td>2013</td>\n",
              "      <td>[2, 1, 2, 4, 1, 3, 1, 3, 1, 2, 6, 2, 4, 6, 1, ...</td>\n",
              "      <td>2</td>\n",
              "      <td>NaN</td>\n",
              "    </tr>\n",
              "    <tr>\n",
              "      <th>7</th>\n",
              "      <td>2014</td>\n",
              "      <td>[1, 1, 1, 1, 3, 1, 7, 1, 1, 12, 2, 18, 1, 3, 2...</td>\n",
              "      <td>2</td>\n",
              "      <td>NaN</td>\n",
              "    </tr>\n",
              "    <tr>\n",
              "      <th>8</th>\n",
              "      <td>2015</td>\n",
              "      <td>[1, 2, 1, 2, 3, 1, 2, 4, 1, 1, 3, 3, 2, 8, 1, ...</td>\n",
              "      <td>2</td>\n",
              "      <td>NaN</td>\n",
              "    </tr>\n",
              "    <tr>\n",
              "      <th>9</th>\n",
              "      <td>2016</td>\n",
              "      <td>[3, 1, 1, 1, 1, 3, 1, 1, 5, 1, 7, 4, 5, 6, 5, ...</td>\n",
              "      <td>2</td>\n",
              "      <td>NaN</td>\n",
              "    </tr>\n",
              "    <tr>\n",
              "      <th>10</th>\n",
              "      <td>2017</td>\n",
              "      <td>[1, 2, 1, 2, 10, 5, 1, 1, 2, 1, 2, 4, 2, 5, 2,...</td>\n",
              "      <td>2</td>\n",
              "      <td>NaN</td>\n",
              "    </tr>\n",
              "    <tr>\n",
              "      <th>11</th>\n",
              "      <td>2018</td>\n",
              "      <td>[1, 5, 6, 3, 8, 2, 3, 1, 5, 3, 14, 7, 4, 2, 1,...</td>\n",
              "      <td>2</td>\n",
              "      <td>NaN</td>\n",
              "    </tr>\n",
              "    <tr>\n",
              "      <th>12</th>\n",
              "      <td>2019</td>\n",
              "      <td>[3, 1, 1, 4, 2, 1, 12, 2, 16, 3, 7, 4, 12, 1, 7]</td>\n",
              "      <td>2</td>\n",
              "      <td>NaN</td>\n",
              "    </tr>\n",
              "    <tr>\n",
              "      <th>13</th>\n",
              "      <td>2020</td>\n",
              "      <td>[1, 1, 3, 2, 1, 2, 2, 4, 9, 4, 3, 3, 3, 1, 7, ...</td>\n",
              "      <td>2</td>\n",
              "      <td>NaN</td>\n",
              "    </tr>\n",
              "    <tr>\n",
              "      <th>14</th>\n",
              "      <td>2021</td>\n",
              "      <td>[1, 2, 1, 4, 1, 2, 1, 4, 2, 2, 1, 6, 6, 1, 3, ...</td>\n",
              "      <td>2</td>\n",
              "      <td>NaN</td>\n",
              "    </tr>\n",
              "  </tbody>\n",
              "</table>\n",
              "</div>\n",
              "      <button class=\"colab-df-convert\" onclick=\"convertToInteractive('df-f59d7d78-5b7c-437e-8d89-e2d8e2597273')\"\n",
              "              title=\"Convert this dataframe to an interactive table.\"\n",
              "              style=\"display:none;\">\n",
              "        \n",
              "  <svg xmlns=\"http://www.w3.org/2000/svg\" height=\"24px\"viewBox=\"0 0 24 24\"\n",
              "       width=\"24px\">\n",
              "    <path d=\"M0 0h24v24H0V0z\" fill=\"none\"/>\n",
              "    <path d=\"M18.56 5.44l.94 2.06.94-2.06 2.06-.94-2.06-.94-.94-2.06-.94 2.06-2.06.94zm-11 1L8.5 8.5l.94-2.06 2.06-.94-2.06-.94L8.5 2.5l-.94 2.06-2.06.94zm10 10l.94 2.06.94-2.06 2.06-.94-2.06-.94-.94-2.06-.94 2.06-2.06.94z\"/><path d=\"M17.41 7.96l-1.37-1.37c-.4-.4-.92-.59-1.43-.59-.52 0-1.04.2-1.43.59L10.3 9.45l-7.72 7.72c-.78.78-.78 2.05 0 2.83L4 21.41c.39.39.9.59 1.41.59.51 0 1.02-.2 1.41-.59l7.78-7.78 2.81-2.81c.8-.78.8-2.07 0-2.86zM5.41 20L4 18.59l7.72-7.72 1.47 1.35L5.41 20z\"/>\n",
              "  </svg>\n",
              "      </button>\n",
              "      \n",
              "  <style>\n",
              "    .colab-df-container {\n",
              "      display:flex;\n",
              "      flex-wrap:wrap;\n",
              "      gap: 12px;\n",
              "    }\n",
              "\n",
              "    .colab-df-convert {\n",
              "      background-color: #E8F0FE;\n",
              "      border: none;\n",
              "      border-radius: 50%;\n",
              "      cursor: pointer;\n",
              "      display: none;\n",
              "      fill: #1967D2;\n",
              "      height: 32px;\n",
              "      padding: 0 0 0 0;\n",
              "      width: 32px;\n",
              "    }\n",
              "\n",
              "    .colab-df-convert:hover {\n",
              "      background-color: #E2EBFA;\n",
              "      box-shadow: 0px 1px 2px rgba(60, 64, 67, 0.3), 0px 1px 3px 1px rgba(60, 64, 67, 0.15);\n",
              "      fill: #174EA6;\n",
              "    }\n",
              "\n",
              "    [theme=dark] .colab-df-convert {\n",
              "      background-color: #3B4455;\n",
              "      fill: #D2E3FC;\n",
              "    }\n",
              "\n",
              "    [theme=dark] .colab-df-convert:hover {\n",
              "      background-color: #434B5C;\n",
              "      box-shadow: 0px 1px 3px 1px rgba(0, 0, 0, 0.15);\n",
              "      filter: drop-shadow(0px 1px 2px rgba(0, 0, 0, 0.3));\n",
              "      fill: #FFFFFF;\n",
              "    }\n",
              "  </style>\n",
              "\n",
              "      <script>\n",
              "        const buttonEl =\n",
              "          document.querySelector('#df-f59d7d78-5b7c-437e-8d89-e2d8e2597273 button.colab-df-convert');\n",
              "        buttonEl.style.display =\n",
              "          google.colab.kernel.accessAllowed ? 'block' : 'none';\n",
              "\n",
              "        async function convertToInteractive(key) {\n",
              "          const element = document.querySelector('#df-f59d7d78-5b7c-437e-8d89-e2d8e2597273');\n",
              "          const dataTable =\n",
              "            await google.colab.kernel.invokeFunction('convertToInteractive',\n",
              "                                                     [key], {});\n",
              "          if (!dataTable) return;\n",
              "\n",
              "          const docLinkHtml = 'Like what you see? Visit the ' +\n",
              "            '<a target=\"_blank\" href=https://colab.research.google.com/notebooks/data_table.ipynb>data table notebook</a>'\n",
              "            + ' to learn more about interactive tables.';\n",
              "          element.innerHTML = '';\n",
              "          dataTable['output_type'] = 'display_data';\n",
              "          await google.colab.output.renderOutput(dataTable, element);\n",
              "          const docLink = document.createElement('div');\n",
              "          docLink.innerHTML = docLinkHtml;\n",
              "          element.appendChild(docLink);\n",
              "        }\n",
              "      </script>\n",
              "    </div>\n",
              "  </div>\n",
              "  "
            ]
          },
          "metadata": {},
          "execution_count": 179
        }
      ]
    },
    {
      "cell_type": "code",
      "execution_count": null,
      "metadata": {
        "id": "3JX9JAp_5pbL"
      },
      "outputs": [],
      "source": [
        "def Fin_year(temp_data):\n",
        "  col_len=len(temp_data.columns)\n",
        "  temp_data['D_avg']=temp_data.iloc[:,1:col_len].mean(axis=1)\n",
        "  temp_data['Date']=pd.to_datetime(temp_data['Date'])\n",
        "  temp_data['FYear']=temp_data['Date'].map(lambda d: d.year + 1 if d.month > 6 else d.year)\n",
        "  temp_data['month']=temp_data['Date'].dt.month\n",
        "  temp_data['Season']=temp_data['month'].map(lambda d: \"Summer\" if d==12 or d==1 or d==2 else (\"Autumn\" if d==3 or d==4 or d==5 else(\"Winter\" if d==6 or d==7 or d==8 else(\"Spring\"))))\n",
        "  return temp_data\n",
        "\n",
        "#north_max_temp['Date']=pd.to_datetime(north_max_temp['Date'])"
      ],
      "id": "3JX9JAp_5pbL"
    },
    {
      "cell_type": "code",
      "execution_count": null,
      "metadata": {
        "colab": {
          "base_uri": "https://localhost:8080/"
        },
        "id": "chVjdzi2wlsb",
        "outputId": "58727497-0899-4d24-a165-122bf7ca7052"
      },
      "outputs": [
        {
          "output_type": "stream",
          "name": "stderr",
          "text": [
            "/usr/local/lib/python3.7/dist-packages/ipykernel_launcher.py:3: PerformanceWarning: DataFrame is highly fragmented.  This is usually the result of calling `frame.insert` many times, which has poor performance.  Consider joining all columns at once using pd.concat(axis=1) instead.  To get a de-fragmented frame, use `newframe = frame.copy()`\n",
            "  This is separate from the ipykernel package so we can avoid doing imports until\n",
            "/usr/local/lib/python3.7/dist-packages/ipykernel_launcher.py:5: PerformanceWarning: DataFrame is highly fragmented.  This is usually the result of calling `frame.insert` many times, which has poor performance.  Consider joining all columns at once using pd.concat(axis=1) instead.  To get a de-fragmented frame, use `newframe = frame.copy()`\n",
            "  \"\"\"\n",
            "/usr/local/lib/python3.7/dist-packages/ipykernel_launcher.py:6: PerformanceWarning: DataFrame is highly fragmented.  This is usually the result of calling `frame.insert` many times, which has poor performance.  Consider joining all columns at once using pd.concat(axis=1) instead.  To get a de-fragmented frame, use `newframe = frame.copy()`\n",
            "  \n",
            "/usr/local/lib/python3.7/dist-packages/ipykernel_launcher.py:7: PerformanceWarning: DataFrame is highly fragmented.  This is usually the result of calling `frame.insert` many times, which has poor performance.  Consider joining all columns at once using pd.concat(axis=1) instead.  To get a de-fragmented frame, use `newframe = frame.copy()`\n",
            "  import sys\n"
          ]
        }
      ],
      "source": [
        "#adding financial year to temperature data\n",
        "north_max_temp=Fin_year(north_max_temp)\n",
        "north_min_temp=Fin_year(north_min_temp)\n",
        "gipps_max_temp=Fin_year(gipps_max_temp)\n",
        "gipps_min_temp=Fin_year(gipps_min_temp)\n",
        "southwest_max_temp=Fin_year(southwest_max_temp)\n",
        "southwest_min_temp=Fin_year(southwest_min_temp)\n"
      ],
      "id": "chVjdzi2wlsb"
    },
    {
      "cell_type": "code",
      "execution_count": null,
      "metadata": {
        "colab": {
          "base_uri": "https://localhost:8080/"
        },
        "id": "U8SR7ZLzySJG",
        "outputId": "6172f0a0-f2d0-43b9-d0bb-fde301624b2d"
      },
      "outputs": [
        {
          "output_type": "stream",
          "name": "stderr",
          "text": [
            "/usr/local/lib/python3.7/dist-packages/ipykernel_launcher.py:3: PerformanceWarning: DataFrame is highly fragmented.  This is usually the result of calling `frame.insert` many times, which has poor performance.  Consider joining all columns at once using pd.concat(axis=1) instead.  To get a de-fragmented frame, use `newframe = frame.copy()`\n",
            "  This is separate from the ipykernel package so we can avoid doing imports until\n",
            "/usr/local/lib/python3.7/dist-packages/ipykernel_launcher.py:5: PerformanceWarning: DataFrame is highly fragmented.  This is usually the result of calling `frame.insert` many times, which has poor performance.  Consider joining all columns at once using pd.concat(axis=1) instead.  To get a de-fragmented frame, use `newframe = frame.copy()`\n",
            "  \"\"\"\n",
            "/usr/local/lib/python3.7/dist-packages/ipykernel_launcher.py:6: PerformanceWarning: DataFrame is highly fragmented.  This is usually the result of calling `frame.insert` many times, which has poor performance.  Consider joining all columns at once using pd.concat(axis=1) instead.  To get a de-fragmented frame, use `newframe = frame.copy()`\n",
            "  \n",
            "/usr/local/lib/python3.7/dist-packages/ipykernel_launcher.py:7: PerformanceWarning: DataFrame is highly fragmented.  This is usually the result of calling `frame.insert` many times, which has poor performance.  Consider joining all columns at once using pd.concat(axis=1) instead.  To get a de-fragmented frame, use `newframe = frame.copy()`\n",
            "  import sys\n"
          ]
        }
      ],
      "source": [
        "#adding fin year to rain data\n",
        "north_csv_rain=Fin_year(north_csv_rain)\n",
        "gipps_csv_rain=Fin_year(gipps_csv_rain)\n",
        "southwest_csv_rain=Fin_year(southwest_csv_rain)"
      ],
      "id": "U8SR7ZLzySJG"
    },
    {
      "cell_type": "code",
      "execution_count": null,
      "metadata": {
        "id": "nAnaCkqqy55-"
      },
      "outputs": [],
      "source": [
        "#rain to csv\n",
        "north_csv_rain.to_csv(\"north_csv_rain.csv\")\n",
        "gipps_csv_rain.to_csv(\"gipps_csv_rain.csv\")\n",
        "southwest_csv_rain.to_csv(\"southwest_csv_rain.csv\")"
      ],
      "id": "nAnaCkqqy55-"
    },
    {
      "cell_type": "code",
      "execution_count": null,
      "metadata": {
        "colab": {
          "background_save": true
        },
        "id": "mKqeEsuvCTVS"
      },
      "outputs": [],
      "source": [
        "# function for adding seasons\n",
        "def seasons(dataset):\n",
        "  dataset['month']=dataset['Date'].dt.month\n",
        "  dataset['Season']=dataset['month'].map(lambda d: \"Summer\" if d==12 or d==1 or d==2 else (\"Autumn\" if d==3 or d==4 or d==5 else(\"Winter\" if d==6 or d==7 or d==8 else(\"Spring\"))))\n",
        "  return dataset"
      ],
      "id": "mKqeEsuvCTVS"
    },
    {
      "cell_type": "code",
      "execution_count": null,
      "metadata": {
        "id": "R_AxOnYY49Hz"
      },
      "outputs": [],
      "source": [
        "def aggregate(dataset):\n",
        "  grouped=dataset.groupby(['FYear','Season']).agg({'D_avg':['sum','mean','max','min']})\n",
        "  grouped.columns=['avge_sum', 'avge_mean', 'avge_max','avge_min']\n",
        "  grouped = grouped.reset_index()\n",
        "  return grouped"
      ],
      "id": "R_AxOnYY49Hz"
    },
    {
      "cell_type": "code",
      "execution_count": null,
      "metadata": {
        "id": "5KCFyiEY5gkQ"
      },
      "outputs": [],
      "source": [
        "north_max_grouped=aggregate(north_max_temp)\n",
        "north_min_grouped=aggregate(north_min_temp)\n",
        "gipps_max_grouped=aggregate(gipps_max_temp)\n",
        "gipps_min_grouped=aggregate(gipps_min_temp)\n",
        "sw_max_grouped=aggregate(southwest_max_temp)\n",
        "sw_min_grouped=aggregate(southwest_min_temp)\n",
        "#north_max_grouped.to_csv(\"north_max_grouped.csv\")"
      ],
      "id": "5KCFyiEY5gkQ"
    },
    {
      "cell_type": "code",
      "source": [
        "north_rain_grouped=aggregate(north_csv_rain)\n",
        "gipps_rain_grouped=aggregate(gipps_csv_rain)\n",
        "sw_rain_grouped=aggregate(southwest_csv_rain)"
      ],
      "metadata": {
        "id": "l8Yj-L2Mq4H4"
      },
      "id": "l8Yj-L2Mq4H4",
      "execution_count": null,
      "outputs": []
    },
    {
      "cell_type": "code",
      "source": [
        "def chng_col_name(df1):\n",
        "  globals_dict = globals()\n",
        "  area_name=[var_name for var_name in globals_dict if globals_dict[var_name] is df1]\n",
        "  area_name = area_name[0].split(\"_\")\n",
        "  df1 =df1.add_prefix(str(area_name[0])+\"_\")\n",
        "  return df1\n",
        "north_max_grouped_temp=chng_col_name(north_max_grouped)\n",
        "\n",
        "\n"
      ],
      "metadata": {
        "id": "O5X3-q6aqy83"
      },
      "id": "O5X3-q6aqy83",
      "execution_count": null,
      "outputs": []
    },
    {
      "cell_type": "code",
      "source": [
        "north_max_grouped.to_csv(\"north_temp_grouped.csv\")\n",
        "gipps_max_grouped.to_csv(\"gipps_temp_grouped.csv\")\n",
        "sw_max_grouped.to_csv(\"sw_temp_grouped.csv\")\n",
        "north_min_grouped.to_csv(\"north_min_group.csv\")\n",
        "gipps_min_grouped.to_csv(\"gipps_min_group.csv\")\n",
        "sw_min_grouped.to_csv(\"sw_min_group.csv\")\n",
        "north_rain_grouped.to_csv(\"north_rain_grp.csv\")\n",
        "gipps_rain_grouped.to_csv(\"gipps_rain_grp.csv\")\n",
        "sw_rain_grouped.to_csv(\"sw_rain_grp.csv\")"
      ],
      "metadata": {
        "id": "y-W0KsT2ujbp"
      },
      "id": "y-W0KsT2ujbp",
      "execution_count": null,
      "outputs": []
    },
    {
      "cell_type": "code",
      "source": [
        "import plotly.express as px\n",
        "import plotly.graph_objects as go\n",
        "from plotly.subplots import make_subplots"
      ],
      "metadata": {
        "id": "MSKsbVC_sdM_"
      },
      "id": "MSKsbVC_sdM_",
      "execution_count": null,
      "outputs": []
    },
    {
      "cell_type": "code",
      "source": [
        "def create_plot(df1):\n",
        "  fig = px.line(df1, x=\"FYear\", y=\"avge_max\",color=\"Season\",markers=True, title='Maximum temperature across Years')\n",
        "  return fig\n",
        "\n",
        "north_temp_plot=create_plot(north_max_grouped)\n",
        "gipps_temp_plot=create_plot(gipps_max_grouped)\n",
        "sw_temp_plot=create_plot(sw_max_grouped)\n"
      ],
      "metadata": {
        "id": "f-IX6txCuaJA"
      },
      "id": "f-IX6txCuaJA",
      "execution_count": null,
      "outputs": []
    },
    {
      "cell_type": "code",
      "source": [
        "north_winter=gipps_rain_grouped['Season']=='Winter'\n",
        "north_winter=gipps_rain_grouped[north_winter]\n",
        "north_winter['avge_sum'].mean()"
      ],
      "metadata": {
        "colab": {
          "base_uri": "https://localhost:8080/"
        },
        "id": "sNz_jgqIwpGM",
        "outputId": "f25a45b0-3a7d-411d-d1ae-b3b26c9296bc"
      },
      "id": "sNz_jgqIwpGM",
      "execution_count": null,
      "outputs": [
        {
          "output_type": "execute_result",
          "data": {
            "text/plain": [
              "263.0696161616162"
            ]
          },
          "metadata": {},
          "execution_count": 68
        }
      ]
    },
    {
      "cell_type": "code",
      "source": [
        "north_temp_plot"
      ],
      "metadata": {
        "id": "s5ygNav_94FH"
      },
      "id": "s5ygNav_94FH",
      "execution_count": null,
      "outputs": []
    },
    {
      "cell_type": "code",
      "source": [
        "north_max_grouped.groupby('Season').describe()"
      ],
      "metadata": {
        "colab": {
          "base_uri": "https://localhost:8080/",
          "height": 248
        },
        "id": "GnhCAcnl8oTk",
        "outputId": "a98b8dfc-368e-4f0e-f909-27d6f2fb8f90"
      },
      "id": "GnhCAcnl8oTk",
      "execution_count": null,
      "outputs": [
        {
          "output_type": "execute_result",
          "data": {
            "text/plain": [
              "       FYear                                                            \\\n",
              "       count    mean       std     min     25%     50%     75%     max   \n",
              "Season                                                                   \n",
              "Autumn  15.0  2014.0  4.472136  2007.0  2010.5  2014.0  2017.5  2021.0   \n",
              "Spring  15.0  2014.0  4.472136  2007.0  2010.5  2014.0  2017.5  2021.0   \n",
              "Summer  15.0  2014.0  4.472136  2007.0  2010.5  2014.0  2017.5  2021.0   \n",
              "Winter  15.0  2014.0  4.472136  2007.0  2010.5  2014.0  2017.5  2021.0   \n",
              "\n",
              "       avge_sum               ...   avge_max            avge_min             \\\n",
              "          count         mean  ...        75%        max    count       mean   \n",
              "Season                        ...                                             \n",
              "Autumn     15.0  2017.077968  ...  36.580476  38.935238     15.0  11.627556   \n",
              "Spring     15.0  2014.965143  ...  38.361429  41.356190     15.0  12.592571   \n",
              "Summer     15.0  2719.238349  ...  43.159524  45.383810     15.0  18.484254   \n",
              "Winter     15.0  1251.645778  ...  20.500000  23.511429     15.0   8.950222   \n",
              "\n",
              "                                                                         \n",
              "             std        min        25%        50%        75%        max  \n",
              "Season                                                                   \n",
              "Autumn  1.208151   9.316190  10.644286  11.467619  12.487143  13.665714  \n",
              "Spring  1.126235  10.502857  12.045238  12.508571  13.231429  14.700000  \n",
              "Summer  1.972034  13.397143  17.981905  18.480952  19.325714  21.951429  \n",
              "Winter  0.711874   7.780952   8.503333   8.768571   9.346190  10.288571  \n",
              "\n",
              "[4 rows x 40 columns]"
            ],
            "text/html": [
              "\n",
              "  <div id=\"df-35ece842-0715-4292-988c-9b56d52a200d\">\n",
              "    <div class=\"colab-df-container\">\n",
              "      <div>\n",
              "<style scoped>\n",
              "    .dataframe tbody tr th:only-of-type {\n",
              "        vertical-align: middle;\n",
              "    }\n",
              "\n",
              "    .dataframe tbody tr th {\n",
              "        vertical-align: top;\n",
              "    }\n",
              "\n",
              "    .dataframe thead tr th {\n",
              "        text-align: left;\n",
              "    }\n",
              "\n",
              "    .dataframe thead tr:last-of-type th {\n",
              "        text-align: right;\n",
              "    }\n",
              "</style>\n",
              "<table border=\"1\" class=\"dataframe\">\n",
              "  <thead>\n",
              "    <tr>\n",
              "      <th></th>\n",
              "      <th colspan=\"8\" halign=\"left\">FYear</th>\n",
              "      <th colspan=\"2\" halign=\"left\">avge_sum</th>\n",
              "      <th>...</th>\n",
              "      <th colspan=\"2\" halign=\"left\">avge_max</th>\n",
              "      <th colspan=\"8\" halign=\"left\">avge_min</th>\n",
              "    </tr>\n",
              "    <tr>\n",
              "      <th></th>\n",
              "      <th>count</th>\n",
              "      <th>mean</th>\n",
              "      <th>std</th>\n",
              "      <th>min</th>\n",
              "      <th>25%</th>\n",
              "      <th>50%</th>\n",
              "      <th>75%</th>\n",
              "      <th>max</th>\n",
              "      <th>count</th>\n",
              "      <th>mean</th>\n",
              "      <th>...</th>\n",
              "      <th>75%</th>\n",
              "      <th>max</th>\n",
              "      <th>count</th>\n",
              "      <th>mean</th>\n",
              "      <th>std</th>\n",
              "      <th>min</th>\n",
              "      <th>25%</th>\n",
              "      <th>50%</th>\n",
              "      <th>75%</th>\n",
              "      <th>max</th>\n",
              "    </tr>\n",
              "    <tr>\n",
              "      <th>Season</th>\n",
              "      <th></th>\n",
              "      <th></th>\n",
              "      <th></th>\n",
              "      <th></th>\n",
              "      <th></th>\n",
              "      <th></th>\n",
              "      <th></th>\n",
              "      <th></th>\n",
              "      <th></th>\n",
              "      <th></th>\n",
              "      <th></th>\n",
              "      <th></th>\n",
              "      <th></th>\n",
              "      <th></th>\n",
              "      <th></th>\n",
              "      <th></th>\n",
              "      <th></th>\n",
              "      <th></th>\n",
              "      <th></th>\n",
              "      <th></th>\n",
              "      <th></th>\n",
              "    </tr>\n",
              "  </thead>\n",
              "  <tbody>\n",
              "    <tr>\n",
              "      <th>Autumn</th>\n",
              "      <td>15.0</td>\n",
              "      <td>2014.0</td>\n",
              "      <td>4.472136</td>\n",
              "      <td>2007.0</td>\n",
              "      <td>2010.5</td>\n",
              "      <td>2014.0</td>\n",
              "      <td>2017.5</td>\n",
              "      <td>2021.0</td>\n",
              "      <td>15.0</td>\n",
              "      <td>2017.077968</td>\n",
              "      <td>...</td>\n",
              "      <td>36.580476</td>\n",
              "      <td>38.935238</td>\n",
              "      <td>15.0</td>\n",
              "      <td>11.627556</td>\n",
              "      <td>1.208151</td>\n",
              "      <td>9.316190</td>\n",
              "      <td>10.644286</td>\n",
              "      <td>11.467619</td>\n",
              "      <td>12.487143</td>\n",
              "      <td>13.665714</td>\n",
              "    </tr>\n",
              "    <tr>\n",
              "      <th>Spring</th>\n",
              "      <td>15.0</td>\n",
              "      <td>2014.0</td>\n",
              "      <td>4.472136</td>\n",
              "      <td>2007.0</td>\n",
              "      <td>2010.5</td>\n",
              "      <td>2014.0</td>\n",
              "      <td>2017.5</td>\n",
              "      <td>2021.0</td>\n",
              "      <td>15.0</td>\n",
              "      <td>2014.965143</td>\n",
              "      <td>...</td>\n",
              "      <td>38.361429</td>\n",
              "      <td>41.356190</td>\n",
              "      <td>15.0</td>\n",
              "      <td>12.592571</td>\n",
              "      <td>1.126235</td>\n",
              "      <td>10.502857</td>\n",
              "      <td>12.045238</td>\n",
              "      <td>12.508571</td>\n",
              "      <td>13.231429</td>\n",
              "      <td>14.700000</td>\n",
              "    </tr>\n",
              "    <tr>\n",
              "      <th>Summer</th>\n",
              "      <td>15.0</td>\n",
              "      <td>2014.0</td>\n",
              "      <td>4.472136</td>\n",
              "      <td>2007.0</td>\n",
              "      <td>2010.5</td>\n",
              "      <td>2014.0</td>\n",
              "      <td>2017.5</td>\n",
              "      <td>2021.0</td>\n",
              "      <td>15.0</td>\n",
              "      <td>2719.238349</td>\n",
              "      <td>...</td>\n",
              "      <td>43.159524</td>\n",
              "      <td>45.383810</td>\n",
              "      <td>15.0</td>\n",
              "      <td>18.484254</td>\n",
              "      <td>1.972034</td>\n",
              "      <td>13.397143</td>\n",
              "      <td>17.981905</td>\n",
              "      <td>18.480952</td>\n",
              "      <td>19.325714</td>\n",
              "      <td>21.951429</td>\n",
              "    </tr>\n",
              "    <tr>\n",
              "      <th>Winter</th>\n",
              "      <td>15.0</td>\n",
              "      <td>2014.0</td>\n",
              "      <td>4.472136</td>\n",
              "      <td>2007.0</td>\n",
              "      <td>2010.5</td>\n",
              "      <td>2014.0</td>\n",
              "      <td>2017.5</td>\n",
              "      <td>2021.0</td>\n",
              "      <td>15.0</td>\n",
              "      <td>1251.645778</td>\n",
              "      <td>...</td>\n",
              "      <td>20.500000</td>\n",
              "      <td>23.511429</td>\n",
              "      <td>15.0</td>\n",
              "      <td>8.950222</td>\n",
              "      <td>0.711874</td>\n",
              "      <td>7.780952</td>\n",
              "      <td>8.503333</td>\n",
              "      <td>8.768571</td>\n",
              "      <td>9.346190</td>\n",
              "      <td>10.288571</td>\n",
              "    </tr>\n",
              "  </tbody>\n",
              "</table>\n",
              "<p>4 rows × 40 columns</p>\n",
              "</div>\n",
              "      <button class=\"colab-df-convert\" onclick=\"convertToInteractive('df-35ece842-0715-4292-988c-9b56d52a200d')\"\n",
              "              title=\"Convert this dataframe to an interactive table.\"\n",
              "              style=\"display:none;\">\n",
              "        \n",
              "  <svg xmlns=\"http://www.w3.org/2000/svg\" height=\"24px\"viewBox=\"0 0 24 24\"\n",
              "       width=\"24px\">\n",
              "    <path d=\"M0 0h24v24H0V0z\" fill=\"none\"/>\n",
              "    <path d=\"M18.56 5.44l.94 2.06.94-2.06 2.06-.94-2.06-.94-.94-2.06-.94 2.06-2.06.94zm-11 1L8.5 8.5l.94-2.06 2.06-.94-2.06-.94L8.5 2.5l-.94 2.06-2.06.94zm10 10l.94 2.06.94-2.06 2.06-.94-2.06-.94-.94-2.06-.94 2.06-2.06.94z\"/><path d=\"M17.41 7.96l-1.37-1.37c-.4-.4-.92-.59-1.43-.59-.52 0-1.04.2-1.43.59L10.3 9.45l-7.72 7.72c-.78.78-.78 2.05 0 2.83L4 21.41c.39.39.9.59 1.41.59.51 0 1.02-.2 1.41-.59l7.78-7.78 2.81-2.81c.8-.78.8-2.07 0-2.86zM5.41 20L4 18.59l7.72-7.72 1.47 1.35L5.41 20z\"/>\n",
              "  </svg>\n",
              "      </button>\n",
              "      \n",
              "  <style>\n",
              "    .colab-df-container {\n",
              "      display:flex;\n",
              "      flex-wrap:wrap;\n",
              "      gap: 12px;\n",
              "    }\n",
              "\n",
              "    .colab-df-convert {\n",
              "      background-color: #E8F0FE;\n",
              "      border: none;\n",
              "      border-radius: 50%;\n",
              "      cursor: pointer;\n",
              "      display: none;\n",
              "      fill: #1967D2;\n",
              "      height: 32px;\n",
              "      padding: 0 0 0 0;\n",
              "      width: 32px;\n",
              "    }\n",
              "\n",
              "    .colab-df-convert:hover {\n",
              "      background-color: #E2EBFA;\n",
              "      box-shadow: 0px 1px 2px rgba(60, 64, 67, 0.3), 0px 1px 3px 1px rgba(60, 64, 67, 0.15);\n",
              "      fill: #174EA6;\n",
              "    }\n",
              "\n",
              "    [theme=dark] .colab-df-convert {\n",
              "      background-color: #3B4455;\n",
              "      fill: #D2E3FC;\n",
              "    }\n",
              "\n",
              "    [theme=dark] .colab-df-convert:hover {\n",
              "      background-color: #434B5C;\n",
              "      box-shadow: 0px 1px 3px 1px rgba(0, 0, 0, 0.15);\n",
              "      filter: drop-shadow(0px 1px 2px rgba(0, 0, 0, 0.3));\n",
              "      fill: #FFFFFF;\n",
              "    }\n",
              "  </style>\n",
              "\n",
              "      <script>\n",
              "        const buttonEl =\n",
              "          document.querySelector('#df-35ece842-0715-4292-988c-9b56d52a200d button.colab-df-convert');\n",
              "        buttonEl.style.display =\n",
              "          google.colab.kernel.accessAllowed ? 'block' : 'none';\n",
              "\n",
              "        async function convertToInteractive(key) {\n",
              "          const element = document.querySelector('#df-35ece842-0715-4292-988c-9b56d52a200d');\n",
              "          const dataTable =\n",
              "            await google.colab.kernel.invokeFunction('convertToInteractive',\n",
              "                                                     [key], {});\n",
              "          if (!dataTable) return;\n",
              "\n",
              "          const docLinkHtml = 'Like what you see? Visit the ' +\n",
              "            '<a target=\"_blank\" href=https://colab.research.google.com/notebooks/data_table.ipynb>data table notebook</a>'\n",
              "            + ' to learn more about interactive tables.';\n",
              "          element.innerHTML = '';\n",
              "          dataTable['output_type'] = 'display_data';\n",
              "          await google.colab.output.renderOutput(dataTable, element);\n",
              "          const docLink = document.createElement('div');\n",
              "          docLink.innerHTML = docLinkHtml;\n",
              "          element.appendChild(docLink);\n",
              "        }\n",
              "      </script>\n",
              "    </div>\n",
              "  </div>\n",
              "  "
            ]
          },
          "metadata": {},
          "execution_count": 76
        },
        {
          "output_type": "stream",
          "name": "stdout",
          "text": [
            "Warning: Total number of columns (40) exceeds max_columns (20) limiting to first (20) columns.\n"
          ]
        }
      ]
    },
    {
      "cell_type": "code",
      "source": [
        "def create_rplot(df1):\n",
        "  fig = px.line(df1, x=\"FYear\", y=\"avge_sum\",color=\"Season\",markers=True, title='Total Seasonal Rainfall across Years')\n",
        "  return fig\n",
        "north_rain_plot=create_rplot(north_rain_grouped)\n",
        "gipps_rain_plot=create_rplot(gipps_rain_grouped)\n",
        "sw_rain_plot=create_rplot(sw_rain_grouped)"
      ],
      "metadata": {
        "id": "xSaBcDvU7IEN"
      },
      "id": "xSaBcDvU7IEN",
      "execution_count": null,
      "outputs": []
    },
    {
      "cell_type": "code",
      "source": [
        "sw_rain_plot.show()\n"
      ],
      "metadata": {
        "colab": {
          "base_uri": "https://localhost:8080/",
          "height": 542
        },
        "id": "7EuCnFuQ7k0o",
        "outputId": "d548b336-3ed6-4433-d70c-a1da5b40b796"
      },
      "id": "7EuCnFuQ7k0o",
      "execution_count": null,
      "outputs": [
        {
          "output_type": "display_data",
          "data": {
            "text/html": [
              "<html>\n",
              "<head><meta charset=\"utf-8\" /></head>\n",
              "<body>\n",
              "    <div>            <script src=\"https://cdnjs.cloudflare.com/ajax/libs/mathjax/2.7.5/MathJax.js?config=TeX-AMS-MML_SVG\"></script><script type=\"text/javascript\">if (window.MathJax) {MathJax.Hub.Config({SVG: {font: \"STIX-Web\"}});}</script>                <script type=\"text/javascript\">window.PlotlyConfig = {MathJaxConfig: 'local'};</script>\n",
              "        <script src=\"https://cdn.plot.ly/plotly-2.8.3.min.js\"></script>                <div id=\"b14f62bf-81b1-429d-9854-c0dc3a572b89\" class=\"plotly-graph-div\" style=\"height:525px; width:100%;\"></div>            <script type=\"text/javascript\">                                    window.PLOTLYENV=window.PLOTLYENV || {};                                    if (document.getElementById(\"b14f62bf-81b1-429d-9854-c0dc3a572b89\")) {                    Plotly.newPlot(                        \"b14f62bf-81b1-429d-9854-c0dc3a572b89\",                        [{\"hovertemplate\":\"Season=Autumn<br>FYear=%{x}<br>avge_sum=%{y}<extra></extra>\",\"legendgroup\":\"Autumn\",\"line\":{\"color\":\"#636efa\",\"dash\":\"solid\"},\"marker\":{\"symbol\":\"circle\"},\"mode\":\"lines+markers\",\"name\":\"Autumn\",\"orientation\":\"v\",\"showlegend\":true,\"x\":[2007,2008,2009,2010,2011,2012,2013,2014,2015,2016,2017,2018,2019,2020,2021],\"xaxis\":\"x\",\"y\":[168.77066666666667,110.94222222222221,140.89377777777779,170.68444444444444,172.60044444444443,160.3853333333333,106.924,157.64711111111112,146.3408888888889,167.81555555555553,202.78311111111108,147.53199999999998,160.3791111111111,183.08533333333332,149.44311111111108],\"yaxis\":\"y\",\"type\":\"scatter\"},{\"hovertemplate\":\"Season=Spring<br>FYear=%{x}<br>avge_sum=%{y}<extra></extra>\",\"legendgroup\":\"Spring\",\"line\":{\"color\":\"#EF553B\",\"dash\":\"solid\"},\"marker\":{\"symbol\":\"circle\"},\"mode\":\"lines+markers\",\"name\":\"Spring\",\"orientation\":\"v\",\"showlegend\":true,\"x\":[2007,2008,2009,2010,2011,2012,2013,2014,2015,2016,2017,2018,2019,2020,2021],\"xaxis\":\"x\",\"y\":[86.80666666666667,191.72622222222222,106.29155555555555,199.01199999999997,249.8946666666667,157.50666666666666,128.65866666666668,209.1688888888889,95.70177777777778,87.28933333333335,288.3813333333333,201.37244444444445,107.07866666666666,148.46400000000003,227.56933333333333],\"yaxis\":\"y\",\"type\":\"scatter\"},{\"hovertemplate\":\"Season=Summer<br>FYear=%{x}<br>avge_sum=%{y}<extra></extra>\",\"legendgroup\":\"Summer\",\"line\":{\"color\":\"#00cc96\",\"dash\":\"solid\"},\"marker\":{\"symbol\":\"circle\"},\"mode\":\"lines+markers\",\"name\":\"Summer\",\"orientation\":\"v\",\"showlegend\":true,\"x\":[2007,2008,2009,2010,2011,2012,2013,2014,2015,2016,2017,2018,2019,2020,2021],\"xaxis\":\"x\",\"y\":[127.65644444444446,109.56133333333331,102.75955555555552,116.50622222222219,323.2026666666667,88.66000000000001,69.45155555555556,67.92222222222222,121.75955555555556,92.98977777777777,115.90044444444445,75.4768888888889,91.75688888888888,101.05244444444443,155.36533333333335],\"yaxis\":\"y\",\"type\":\"scatter\"},{\"hovertemplate\":\"Season=Winter<br>FYear=%{x}<br>avge_sum=%{y}<extra></extra>\",\"legendgroup\":\"Winter\",\"line\":{\"color\":\"#ab63fa\",\"dash\":\"solid\"},\"marker\":{\"symbol\":\"circle\"},\"mode\":\"lines+markers\",\"name\":\"Winter\",\"orientation\":\"v\",\"showlegend\":true,\"x\":[2007,2008,2009,2010,2011,2012,2013,2014,2015,2016,2017,2018,2019,2020,2021],\"xaxis\":\"x\",\"y\":[154.4875555555556,197.43688888888892,236.2351111111111,271.164,291.5875555555555,238.80133333333336,251.7608888888889,347.0875555555555,171.24222222222224,200.11200000000002,215.96933333333334,248.78,271.876,212.97777777777782,215.3666666666667],\"yaxis\":\"y\",\"type\":\"scatter\"}],                        {\"template\":{\"data\":{\"bar\":[{\"error_x\":{\"color\":\"#2a3f5f\"},\"error_y\":{\"color\":\"#2a3f5f\"},\"marker\":{\"line\":{\"color\":\"#E5ECF6\",\"width\":0.5},\"pattern\":{\"fillmode\":\"overlay\",\"size\":10,\"solidity\":0.2}},\"type\":\"bar\"}],\"barpolar\":[{\"marker\":{\"line\":{\"color\":\"#E5ECF6\",\"width\":0.5},\"pattern\":{\"fillmode\":\"overlay\",\"size\":10,\"solidity\":0.2}},\"type\":\"barpolar\"}],\"carpet\":[{\"aaxis\":{\"endlinecolor\":\"#2a3f5f\",\"gridcolor\":\"white\",\"linecolor\":\"white\",\"minorgridcolor\":\"white\",\"startlinecolor\":\"#2a3f5f\"},\"baxis\":{\"endlinecolor\":\"#2a3f5f\",\"gridcolor\":\"white\",\"linecolor\":\"white\",\"minorgridcolor\":\"white\",\"startlinecolor\":\"#2a3f5f\"},\"type\":\"carpet\"}],\"choropleth\":[{\"colorbar\":{\"outlinewidth\":0,\"ticks\":\"\"},\"type\":\"choropleth\"}],\"contour\":[{\"colorbar\":{\"outlinewidth\":0,\"ticks\":\"\"},\"colorscale\":[[0.0,\"#0d0887\"],[0.1111111111111111,\"#46039f\"],[0.2222222222222222,\"#7201a8\"],[0.3333333333333333,\"#9c179e\"],[0.4444444444444444,\"#bd3786\"],[0.5555555555555556,\"#d8576b\"],[0.6666666666666666,\"#ed7953\"],[0.7777777777777778,\"#fb9f3a\"],[0.8888888888888888,\"#fdca26\"],[1.0,\"#f0f921\"]],\"type\":\"contour\"}],\"contourcarpet\":[{\"colorbar\":{\"outlinewidth\":0,\"ticks\":\"\"},\"type\":\"contourcarpet\"}],\"heatmap\":[{\"colorbar\":{\"outlinewidth\":0,\"ticks\":\"\"},\"colorscale\":[[0.0,\"#0d0887\"],[0.1111111111111111,\"#46039f\"],[0.2222222222222222,\"#7201a8\"],[0.3333333333333333,\"#9c179e\"],[0.4444444444444444,\"#bd3786\"],[0.5555555555555556,\"#d8576b\"],[0.6666666666666666,\"#ed7953\"],[0.7777777777777778,\"#fb9f3a\"],[0.8888888888888888,\"#fdca26\"],[1.0,\"#f0f921\"]],\"type\":\"heatmap\"}],\"heatmapgl\":[{\"colorbar\":{\"outlinewidth\":0,\"ticks\":\"\"},\"colorscale\":[[0.0,\"#0d0887\"],[0.1111111111111111,\"#46039f\"],[0.2222222222222222,\"#7201a8\"],[0.3333333333333333,\"#9c179e\"],[0.4444444444444444,\"#bd3786\"],[0.5555555555555556,\"#d8576b\"],[0.6666666666666666,\"#ed7953\"],[0.7777777777777778,\"#fb9f3a\"],[0.8888888888888888,\"#fdca26\"],[1.0,\"#f0f921\"]],\"type\":\"heatmapgl\"}],\"histogram\":[{\"marker\":{\"pattern\":{\"fillmode\":\"overlay\",\"size\":10,\"solidity\":0.2}},\"type\":\"histogram\"}],\"histogram2d\":[{\"colorbar\":{\"outlinewidth\":0,\"ticks\":\"\"},\"colorscale\":[[0.0,\"#0d0887\"],[0.1111111111111111,\"#46039f\"],[0.2222222222222222,\"#7201a8\"],[0.3333333333333333,\"#9c179e\"],[0.4444444444444444,\"#bd3786\"],[0.5555555555555556,\"#d8576b\"],[0.6666666666666666,\"#ed7953\"],[0.7777777777777778,\"#fb9f3a\"],[0.8888888888888888,\"#fdca26\"],[1.0,\"#f0f921\"]],\"type\":\"histogram2d\"}],\"histogram2dcontour\":[{\"colorbar\":{\"outlinewidth\":0,\"ticks\":\"\"},\"colorscale\":[[0.0,\"#0d0887\"],[0.1111111111111111,\"#46039f\"],[0.2222222222222222,\"#7201a8\"],[0.3333333333333333,\"#9c179e\"],[0.4444444444444444,\"#bd3786\"],[0.5555555555555556,\"#d8576b\"],[0.6666666666666666,\"#ed7953\"],[0.7777777777777778,\"#fb9f3a\"],[0.8888888888888888,\"#fdca26\"],[1.0,\"#f0f921\"]],\"type\":\"histogram2dcontour\"}],\"mesh3d\":[{\"colorbar\":{\"outlinewidth\":0,\"ticks\":\"\"},\"type\":\"mesh3d\"}],\"parcoords\":[{\"line\":{\"colorbar\":{\"outlinewidth\":0,\"ticks\":\"\"}},\"type\":\"parcoords\"}],\"pie\":[{\"automargin\":true,\"type\":\"pie\"}],\"scatter\":[{\"marker\":{\"colorbar\":{\"outlinewidth\":0,\"ticks\":\"\"}},\"type\":\"scatter\"}],\"scatter3d\":[{\"line\":{\"colorbar\":{\"outlinewidth\":0,\"ticks\":\"\"}},\"marker\":{\"colorbar\":{\"outlinewidth\":0,\"ticks\":\"\"}},\"type\":\"scatter3d\"}],\"scattercarpet\":[{\"marker\":{\"colorbar\":{\"outlinewidth\":0,\"ticks\":\"\"}},\"type\":\"scattercarpet\"}],\"scattergeo\":[{\"marker\":{\"colorbar\":{\"outlinewidth\":0,\"ticks\":\"\"}},\"type\":\"scattergeo\"}],\"scattergl\":[{\"marker\":{\"colorbar\":{\"outlinewidth\":0,\"ticks\":\"\"}},\"type\":\"scattergl\"}],\"scattermapbox\":[{\"marker\":{\"colorbar\":{\"outlinewidth\":0,\"ticks\":\"\"}},\"type\":\"scattermapbox\"}],\"scatterpolar\":[{\"marker\":{\"colorbar\":{\"outlinewidth\":0,\"ticks\":\"\"}},\"type\":\"scatterpolar\"}],\"scatterpolargl\":[{\"marker\":{\"colorbar\":{\"outlinewidth\":0,\"ticks\":\"\"}},\"type\":\"scatterpolargl\"}],\"scatterternary\":[{\"marker\":{\"colorbar\":{\"outlinewidth\":0,\"ticks\":\"\"}},\"type\":\"scatterternary\"}],\"surface\":[{\"colorbar\":{\"outlinewidth\":0,\"ticks\":\"\"},\"colorscale\":[[0.0,\"#0d0887\"],[0.1111111111111111,\"#46039f\"],[0.2222222222222222,\"#7201a8\"],[0.3333333333333333,\"#9c179e\"],[0.4444444444444444,\"#bd3786\"],[0.5555555555555556,\"#d8576b\"],[0.6666666666666666,\"#ed7953\"],[0.7777777777777778,\"#fb9f3a\"],[0.8888888888888888,\"#fdca26\"],[1.0,\"#f0f921\"]],\"type\":\"surface\"}],\"table\":[{\"cells\":{\"fill\":{\"color\":\"#EBF0F8\"},\"line\":{\"color\":\"white\"}},\"header\":{\"fill\":{\"color\":\"#C8D4E3\"},\"line\":{\"color\":\"white\"}},\"type\":\"table\"}]},\"layout\":{\"annotationdefaults\":{\"arrowcolor\":\"#2a3f5f\",\"arrowhead\":0,\"arrowwidth\":1},\"autotypenumbers\":\"strict\",\"coloraxis\":{\"colorbar\":{\"outlinewidth\":0,\"ticks\":\"\"}},\"colorscale\":{\"diverging\":[[0,\"#8e0152\"],[0.1,\"#c51b7d\"],[0.2,\"#de77ae\"],[0.3,\"#f1b6da\"],[0.4,\"#fde0ef\"],[0.5,\"#f7f7f7\"],[0.6,\"#e6f5d0\"],[0.7,\"#b8e186\"],[0.8,\"#7fbc41\"],[0.9,\"#4d9221\"],[1,\"#276419\"]],\"sequential\":[[0.0,\"#0d0887\"],[0.1111111111111111,\"#46039f\"],[0.2222222222222222,\"#7201a8\"],[0.3333333333333333,\"#9c179e\"],[0.4444444444444444,\"#bd3786\"],[0.5555555555555556,\"#d8576b\"],[0.6666666666666666,\"#ed7953\"],[0.7777777777777778,\"#fb9f3a\"],[0.8888888888888888,\"#fdca26\"],[1.0,\"#f0f921\"]],\"sequentialminus\":[[0.0,\"#0d0887\"],[0.1111111111111111,\"#46039f\"],[0.2222222222222222,\"#7201a8\"],[0.3333333333333333,\"#9c179e\"],[0.4444444444444444,\"#bd3786\"],[0.5555555555555556,\"#d8576b\"],[0.6666666666666666,\"#ed7953\"],[0.7777777777777778,\"#fb9f3a\"],[0.8888888888888888,\"#fdca26\"],[1.0,\"#f0f921\"]]},\"colorway\":[\"#636efa\",\"#EF553B\",\"#00cc96\",\"#ab63fa\",\"#FFA15A\",\"#19d3f3\",\"#FF6692\",\"#B6E880\",\"#FF97FF\",\"#FECB52\"],\"font\":{\"color\":\"#2a3f5f\"},\"geo\":{\"bgcolor\":\"white\",\"lakecolor\":\"white\",\"landcolor\":\"#E5ECF6\",\"showlakes\":true,\"showland\":true,\"subunitcolor\":\"white\"},\"hoverlabel\":{\"align\":\"left\"},\"hovermode\":\"closest\",\"mapbox\":{\"style\":\"light\"},\"paper_bgcolor\":\"white\",\"plot_bgcolor\":\"#E5ECF6\",\"polar\":{\"angularaxis\":{\"gridcolor\":\"white\",\"linecolor\":\"white\",\"ticks\":\"\"},\"bgcolor\":\"#E5ECF6\",\"radialaxis\":{\"gridcolor\":\"white\",\"linecolor\":\"white\",\"ticks\":\"\"}},\"scene\":{\"xaxis\":{\"backgroundcolor\":\"#E5ECF6\",\"gridcolor\":\"white\",\"gridwidth\":2,\"linecolor\":\"white\",\"showbackground\":true,\"ticks\":\"\",\"zerolinecolor\":\"white\"},\"yaxis\":{\"backgroundcolor\":\"#E5ECF6\",\"gridcolor\":\"white\",\"gridwidth\":2,\"linecolor\":\"white\",\"showbackground\":true,\"ticks\":\"\",\"zerolinecolor\":\"white\"},\"zaxis\":{\"backgroundcolor\":\"#E5ECF6\",\"gridcolor\":\"white\",\"gridwidth\":2,\"linecolor\":\"white\",\"showbackground\":true,\"ticks\":\"\",\"zerolinecolor\":\"white\"}},\"shapedefaults\":{\"line\":{\"color\":\"#2a3f5f\"}},\"ternary\":{\"aaxis\":{\"gridcolor\":\"white\",\"linecolor\":\"white\",\"ticks\":\"\"},\"baxis\":{\"gridcolor\":\"white\",\"linecolor\":\"white\",\"ticks\":\"\"},\"bgcolor\":\"#E5ECF6\",\"caxis\":{\"gridcolor\":\"white\",\"linecolor\":\"white\",\"ticks\":\"\"}},\"title\":{\"x\":0.05},\"xaxis\":{\"automargin\":true,\"gridcolor\":\"white\",\"linecolor\":\"white\",\"ticks\":\"\",\"title\":{\"standoff\":15},\"zerolinecolor\":\"white\",\"zerolinewidth\":2},\"yaxis\":{\"automargin\":true,\"gridcolor\":\"white\",\"linecolor\":\"white\",\"ticks\":\"\",\"title\":{\"standoff\":15},\"zerolinecolor\":\"white\",\"zerolinewidth\":2}}},\"xaxis\":{\"anchor\":\"y\",\"domain\":[0.0,1.0],\"title\":{\"text\":\"FYear\"}},\"yaxis\":{\"anchor\":\"x\",\"domain\":[0.0,1.0],\"title\":{\"text\":\"avge_sum\"}},\"legend\":{\"title\":{\"text\":\"Season\"},\"tracegroupgap\":0},\"title\":{\"text\":\"Total Seasonal Rainfall across Years\"}},                        {\"responsive\": true}                    ).then(function(){\n",
              "                            \n",
              "var gd = document.getElementById('b14f62bf-81b1-429d-9854-c0dc3a572b89');\n",
              "var x = new MutationObserver(function (mutations, observer) {{\n",
              "        var display = window.getComputedStyle(gd).display;\n",
              "        if (!display || display === 'none') {{\n",
              "            console.log([gd, 'removed!']);\n",
              "            Plotly.purge(gd);\n",
              "            observer.disconnect();\n",
              "        }}\n",
              "}});\n",
              "\n",
              "// Listen for the removal of the full notebook cells\n",
              "var notebookContainer = gd.closest('#notebook-container');\n",
              "if (notebookContainer) {{\n",
              "    x.observe(notebookContainer, {childList: true});\n",
              "}}\n",
              "\n",
              "// Listen for the clearing of the current output cell\n",
              "var outputEl = gd.closest('.output');\n",
              "if (outputEl) {{\n",
              "    x.observe(outputEl, {childList: true});\n",
              "}}\n",
              "\n",
              "                        })                };                            </script>        </div>\n",
              "</body>\n",
              "</html>"
            ]
          },
          "metadata": {}
        }
      ]
    },
    {
      "cell_type": "code",
      "source": [
        "#new_df=gipps_max_grouped\n",
        "def combine(dataset1,dataset2,dataset3,count_n,final):\n",
        "  globals_dict = globals()\n",
        "  my_name1=[var_name for var_name in globals_dict if globals_dict[var_name] is dataset1]\n",
        "  my_name2=[var_name for var_name in globals_dict if globals_dict[var_name] is dataset2]\n",
        "  my_name3=[var_name for var_name in globals_dict if globals_dict[var_name] is dataset3]\n",
        "  #name1, x=[name for name in globals() if globals()[name] is dataset]\n",
        "  #my_name=namestr(dataset,globals())\n",
        "  dataset1=dataset1.pivot_table(index=\"FYear\", \n",
        "                              columns=['Season'],\n",
        "                              values=['avge_sum','avge_mean','avge_max','avge_min'])\n",
        "  dataset2=dataset2.pivot_table(index=\"FYear\", \n",
        "                              columns=['Season'],\n",
        "                              values=['avge_sum','avge_mean','avge_max','avge_min'])\n",
        "  dataset3=dataset3.pivot_table(index=\"FYear\", \n",
        "                              columns=['Season'],\n",
        "                              values=['avge_sum','avge_mean','avge_max','avge_min'])\n",
        "  dataset1.columns =dataset1.columns.map('{0[0]}|{0[1]}'.format)\n",
        "  dataset2.columns =dataset2.columns.map('{0[0]}|{0[1]}'.format)\n",
        "  dataset3.columns =dataset3.columns.map('{0[0]}|{0[1]}'.format)\n",
        "  dataset1 =dataset1.add_prefix(str(my_name1)+\" \")\n",
        "  dataset2 =dataset2.add_prefix(str(my_name2)+\" \")\n",
        "  dataset3 =dataset3.add_prefix(str(my_name3)+\" \")\n",
        "  #final=final.rename(columns={'Year':'FYear'})\n",
        "  final =final.merge(dataset1,on='FYear')\n",
        "  final=final.merge(dataset2,on='FYear')\n",
        "  final=final.merge(dataset3,on=\"FYear\")\n",
        "  final=final.merge(count_n,on=\"FYear\")\n",
        "  return final  \n",
        "#gipps_df1=combine(gipps_max_grouped,gipps_min_grouped,gipps_rain_grouped,gipps_count,gipps_df) \n",
        "  "
      ],
      "metadata": {
        "id": "yngC9u1aLPbG"
      },
      "id": "yngC9u1aLPbG",
      "execution_count": null,
      "outputs": []
    },
    {
      "cell_type": "code",
      "source": [
        "gipps_df= pd.read_csv(\"gipps_finale.csv\")\n",
        "sw_df=pd.read_csv(\"SW_final.csv\")\n",
        "north_df=pd.read_csv(\"north_final.csv\")\n"
      ],
      "metadata": {
        "id": "MCEf4_9fKScM"
      },
      "id": "MCEf4_9fKScM",
      "execution_count": null,
      "outputs": []
    },
    {
      "cell_type": "code",
      "source": [
        "gipps_finale=combine(gipps_max_grouped,gipps_min_grouped,gipps_rain_grouped,gipps_count,gipps_df)\n",
        "north_finale=combine(north_max_grouped,north_min_grouped,north_rain_grouped,north_count,north_df)\n",
        "sw_finale=combine(sw_max_grouped,sw_min_grouped,sw_rain_grouped,sw_count,sw_df)"
      ],
      "metadata": {
        "id": "Q8biQOmpTYIF"
      },
      "id": "Q8biQOmpTYIF",
      "execution_count": null,
      "outputs": []
    },
    {
      "cell_type": "code",
      "source": [
        "sw_min_g=sw_min_grouped\n",
        "sw_min_g\n",
        "new_df1=sw_min_g\n",
        "new_df1=new_df1.pivot_table(index=\"FYear\", \n",
        "                    columns=['Season'], \n",
        "                    values=['avge_sum','avge_mean','avge_max','avge_min'])\n",
        "new_df1.columns =new_df1.columns.map('{0[0]}|{0[1]}'.format)\n",
        "new_df1 "
      ],
      "metadata": {
        "id": "UgKdtIwApOXb"
      },
      "id": "UgKdtIwApOXb",
      "execution_count": null,
      "outputs": []
    },
    {
      "cell_type": "code",
      "source": [
        "import numpy as np\n",
        "import pandas as pd\n",
        "#!pip install linearmodels\n",
        "from linearmodels import PanelOLS\n",
        "from linearmodels import RandomEffects\n",
        "#from linearmodels import FixedEffects\n",
        "import statsmodels.api as sm\n",
        "import math\n",
        "import statsmodels.formula.api as smf"
      ],
      "metadata": {
        "id": "KcJBuAWSXjpi"
      },
      "id": "KcJBuAWSXjpi",
      "execution_count": null,
      "outputs": []
    },
    {
      "cell_type": "code",
      "source": [
        "north_col_list = north_finale.columns.values.tolist()\n",
        "sw_col_list=sw_finale.columns.values.tolist()\n",
        "gipps_col_list=gipps_finale.columns.values.tolist()"
      ],
      "metadata": {
        "id": "RZ7zxBZEZ2nk"
      },
      "id": "RZ7zxBZEZ2nk",
      "execution_count": null,
      "outputs": []
    },
    {
      "cell_type": "code",
      "source": [
        "north_col_list\n",
        "north_model_df=north_finale\n",
        "#north_model_df['FYear']=pd.to_numeric(north_model_df['FYear'])\n",
        "north_model_df=north_model_df.set_index(['Farm number','FYear'])\n",
        "\n",
        "exog_vars = ['Grazed area', 'count_1','Estimated grazed pasture','Estimated conserved feed',\n",
        "             \"['north_max_grouped', '_209'] avge_max|Autumn\",\n",
        " \"['north_max_grouped', '_209'] avge_max|Spring\",\n",
        " \"['north_max_grouped', '_209'] avge_max|Summer\",\n",
        " \"['north_max_grouped', '_209'] avge_max|Winter\",\n",
        " \"['north_max_grouped', '_209'] avge_mean|Autumn\",\n",
        " \"['north_max_grouped', '_209'] avge_mean|Spring\",\n",
        " \"['north_max_grouped', '_209'] avge_mean|Summer\",\n",
        " \"['north_max_grouped', '_209'] avge_mean|Winter\",\n",
        " \"['north_rain_grouped', '_211'] avge_sum|Autumn\",\n",
        " \"['north_rain_grouped', '_211'] avge_sum|Spring\",\n",
        " \"['north_rain_grouped', '_211'] avge_sum|Summer\",\n",
        " \"['north_rain_grouped', '_211'] avge_sum|Winter\"]\n",
        "exog = sm.add_constant(north_model_df[exog_vars])\n",
        "mod = RandomEffects(north_model_df['Milk sold'], exog)\n",
        "re_res = mod.fit()\n",
        "print(re_res)\n"
      ],
      "metadata": {
        "colab": {
          "base_uri": "https://localhost:8080/"
        },
        "id": "va2OPMJJazyy",
        "outputId": "9895fdb7-3e46-4422-fdf4-7dc6af3cdc10"
      },
      "id": "va2OPMJJazyy",
      "execution_count": null,
      "outputs": [
        {
          "output_type": "stream",
          "name": "stdout",
          "text": [
            "                        RandomEffects Estimation Summary                        \n",
            "================================================================================\n",
            "Dep. Variable:              Milk sold   R-squared:                        0.5902\n",
            "Estimator:              RandomEffects   R-squared (Between):              0.7463\n",
            "No. Observations:                  45   R-squared (Within):               0.2484\n",
            "Date:                Tue, Oct 11 2022   R-squared (Overall):              0.5902\n",
            "Time:                        10:08:02   Log-likelihood                   -243.04\n",
            "Cov. Estimator:            Unadjusted                                           \n",
            "                                        F-statistic:                      2.5201\n",
            "Entities:                           3   P-value                           0.0156\n",
            "Avg Obs:                       15.000   Distribution:                   F(16,28)\n",
            "Min Obs:                       15.000                                           \n",
            "Max Obs:                       15.000   F-statistic (robust):             2.5201\n",
            "                                        P-value                           0.0156\n",
            "Time periods:                      15   Distribution:                   F(16,28)\n",
            "Avg Obs:                       3.0000                                           \n",
            "Min Obs:                       3.0000                                           \n",
            "Max Obs:                       3.0000                                           \n",
            "                                                                                \n",
            "                                               Parameter Estimates                                                \n",
            "==================================================================================================================\n",
            "                                                Parameter  Std. Err.     T-stat    P-value    Lower CI    Upper CI\n",
            "------------------------------------------------------------------------------------------------------------------\n",
            "const                                              1170.5     2797.5     0.4184     0.6788     -4559.8      6900.9\n",
            "Grazed area                                        0.3873     0.1269     3.0529     0.0049      0.1274      0.6472\n",
            "count_1                                            5.9159     23.936     0.2471     0.8066     -43.116      54.947\n",
            "Estimated grazed pasture                           15.100     8.7943     1.7170     0.0970     -2.9148      33.114\n",
            "Estimated conserved feed                           28.691     10.962     2.6173     0.0141      6.2365      51.145\n",
            "['north_max_grouped', '_209'] avge_max|Autumn      5.2198     11.015     0.4739     0.6393     -17.344      27.783\n",
            "['north_max_grouped', '_209'] avge_max|Spring      9.5933     8.9174     1.0758     0.2912     -8.6731      27.860\n",
            "['north_max_grouped', '_209'] avge_max|Summer      6.8253     15.205     0.4489     0.6570     -24.320      37.970\n",
            "['north_max_grouped', '_209'] avge_max|Winter      12.008     33.145     0.3623     0.7199     -55.886      79.902\n",
            "['north_max_grouped', '_209'] avge_mean|Autumn    -33.331     40.238    -0.8283     0.4145     -115.75      49.093\n",
            "['north_max_grouped', '_209'] avge_mean|Spring    -0.0438     29.371    -0.0015     0.9988     -60.207      60.119\n",
            "['north_max_grouped', '_209'] avge_mean|Summer     1.5541     40.610     0.0383     0.9697     -81.632      84.740\n",
            "['north_max_grouped', '_209'] avge_mean|Winter    -33.344     93.155    -0.3579     0.7231     -224.16      157.48\n",
            "['north_rain_grouped', '_211'] avge_sum|Autumn    -0.6474     0.6467    -1.0011     0.3254     -1.9722      0.6774\n",
            "['north_rain_grouped', '_211'] avge_sum|Spring     0.2487     0.5119     0.4859     0.6308     -0.7998      1.2973\n",
            "['north_rain_grouped', '_211'] avge_sum|Summer    -0.5070     0.3406    -1.4886     0.1478     -1.2047      0.1906\n",
            "['north_rain_grouped', '_211'] avge_sum|Winter     0.6654     0.6232     1.0677     0.2948     -0.6112      1.9420\n",
            "==================================================================================================================\n"
          ]
        },
        {
          "output_type": "stream",
          "name": "stderr",
          "text": [
            "/usr/local/lib/python3.7/dist-packages/statsmodels/tsa/tsatools.py:142: FutureWarning: In a future version of pandas all arguments of concat except for the argument 'objs' will be keyword-only\n",
            "  x = pd.concat(x[::order], 1)\n"
          ]
        }
      ]
    },
    {
      "cell_type": "code",
      "source": [
        "north_finale.to_csv(\"north_finalle.csv\")\n",
        "gipps_finale.to_csv(\"gipps_finalle.csv\")\n",
        "sw_finale.to_csv(\"sw_finalle.csv\")"
      ],
      "metadata": {
        "id": "EMc762fCchvI"
      },
      "id": "EMc762fCchvI",
      "execution_count": null,
      "outputs": []
    },
    {
      "cell_type": "code",
      "source": [
        "\n",
        "gipps_model_df=gipps_finale_all\n",
        "#north_model_df['FYear']=pd.to_numeric(north_model_df['FYear'])\n",
        "gipps_model_df=gipps_model_df.set_index(['Farm number','FYear'])\n",
        "\n",
        "exog_gipps_vars = ['Grazed Area (Hectares)', 'count_1','Grazed Pasture','Conserved Feed',\n",
        " \"['gipps_max_grouped', '_33', '_37', '_46'] avge_max|Autumn\",\n",
        " \"['gipps_max_grouped', '_33', '_37', '_46'] avge_max|Spring\",\n",
        " \"['gipps_max_grouped', '_33', '_37', '_46'] avge_max|Summer\",\n",
        " \"['gipps_max_grouped', '_33', '_37', '_46'] avge_max|Winter\",\n",
        " \"['gipps_max_grouped', '_33', '_37', '_46'] avge_mean|Autumn\",\n",
        " \"['gipps_max_grouped', '_33', '_37', '_46'] avge_mean|Spring\",\n",
        " \"['gipps_max_grouped', '_33', '_37', '_46'] avge_mean|Summer\",\n",
        " \"['gipps_max_grouped', '_33', '_37', '_46'] avge_mean|Winter\",\n",
        "\"['gipps_rain_grouped'] avge_sum|Autumn\",\n",
        " \"['gipps_rain_grouped'] avge_sum|Spring\",\n",
        " \"['gipps_rain_grouped'] avge_sum|Summer\",\n",
        " \"['gipps_rain_grouped'] avge_sum|Winter\"]\n",
        "exog_gipps = sm.add_constant(gipps_model_df[exog_gipps_vars])\n",
        "mod_gipps = RandomEffects((gipps_model_df['Milk Sold (kg MS /cow)']), exog_gipps)\n",
        "re_res_gipps = mod_gipps.fit()\n",
        "print(re_res_gipps)\n",
        "model_fe = fixedeffect(data_df = gipps_model_df,\n",
        "                      dependent = y,\n",
        "                      exog_x = exog_x,\n",
        "                      category = category,\n",
        "                      cluster = cluster)"
      ],
      "metadata": {
        "colab": {
          "base_uri": "https://localhost:8080/"
        },
        "id": "8BSOhQb3fyqh",
        "outputId": "f6427ec7-7029-4f88-f82b-935588cf7919"
      },
      "id": "8BSOhQb3fyqh",
      "execution_count": null,
      "outputs": [
        {
          "output_type": "stream",
          "name": "stdout",
          "text": [
            "                          RandomEffects Estimation Summary                          \n",
            "====================================================================================\n",
            "Dep. Variable:     Milk Sold (kg MS /cow)   R-squared:                        0.2120\n",
            "Estimator:                  RandomEffects   R-squared (Between):              0.2741\n",
            "No. Observations:                     153   R-squared (Within):              -0.0574\n",
            "Date:                    Tue, Oct 11 2022   R-squared (Overall):              0.2120\n",
            "Time:                            11:40:22   Log-likelihood                   -857.51\n",
            "Cov. Estimator:                Unadjusted                                           \n",
            "                                            F-statistic:                      2.2868\n",
            "Entities:                              11   P-value                           0.0054\n",
            "Avg Obs:                           13.909   Distribution:                  F(16,136)\n",
            "Min Obs:                           13.000                                           \n",
            "Max Obs:                           15.000   F-statistic (robust):             2.2868\n",
            "                                            P-value                           0.0054\n",
            "Time periods:                          15   Distribution:                  F(16,136)\n",
            "Avg Obs:                           10.200                                           \n",
            "Min Obs:                           4.0000                                           \n",
            "Max Obs:                           11.000                                           \n",
            "                                                                                    \n",
            "                                                      Parameter Estimates                                                      \n",
            "===============================================================================================================================\n",
            "                                                             Parameter  Std. Err.     T-stat    P-value    Lower CI    Upper CI\n",
            "-------------------------------------------------------------------------------------------------------------------------------\n",
            "const                                                          -1025.4     2764.5    -0.3709     0.7113     -6492.3      4441.5\n",
            "Grazed Area (Hectares)                                          0.3332     0.1022     3.2608     0.0014      0.1311      0.5352\n",
            "count_1                                                        -11.582     16.440    -0.7045     0.4824     -44.093      20.930\n",
            "Grazed Pasture                                                  13.812     2.6139     5.2839     0.0000      8.6425      18.981\n",
            "Conserved Feed                                                  3.3543     8.4653     0.3962     0.6925     -13.386      20.095\n",
            "['gipps_max_grouped', '_33', '_37', '_46'] avge_max|Autumn      17.013     17.220     0.9879     0.3249     -17.042      51.067\n",
            "['gipps_max_grouped', '_33', '_37', '_46'] avge_max|Spring      5.4730     7.6182     0.7184     0.4737     -9.5924      20.538\n",
            "['gipps_max_grouped', '_33', '_37', '_46'] avge_max|Summer     -10.610     13.188    -0.8045     0.4225     -36.689      15.470\n",
            "['gipps_max_grouped', '_33', '_37', '_46'] avge_max|Winter     -18.193     31.511    -0.5774     0.5647     -80.509      44.122\n",
            "['gipps_max_grouped', '_33', '_37', '_46'] avge_mean|Autumn    -53.548     51.840    -1.0330     0.3035     -156.06      48.968\n",
            "['gipps_max_grouped', '_33', '_37', '_46'] avge_mean|Spring     62.316     74.137     0.8406     0.4021     -84.294      208.93\n",
            "['gipps_max_grouped', '_33', '_37', '_46'] avge_mean|Summer     23.802     27.133     0.8772     0.3819     -29.854      77.458\n",
            "['gipps_max_grouped', '_33', '_37', '_46'] avge_mean|Winter    -25.411     56.700    -0.4482     0.6547     -137.54      86.716\n",
            "['gipps_rain_grouped'] avge_sum|Autumn                         -0.0641     0.3647    -0.1758     0.8607     -0.7854      0.6571\n",
            "['gipps_rain_grouped'] avge_sum|Spring                          0.8174     0.6609     1.2368     0.2183     -0.4896      2.1244\n",
            "['gipps_rain_grouped'] avge_sum|Summer                         -0.3167     0.2820    -1.1232     0.2633     -0.8744      0.2409\n",
            "['gipps_rain_grouped'] avge_sum|Winter                          0.3834     0.3816     1.0048     0.3168     -0.3712      1.1381\n",
            "===============================================================================================================================\n"
          ]
        }
      ]
    },
    {
      "cell_type": "code",
      "source": [
        "gipps_col_list"
      ],
      "metadata": {
        "colab": {
          "base_uri": "https://localhost:8080/"
        },
        "id": "5pQTpc9qiOQW",
        "outputId": "3b50bd0c-ac20-44c4-f17c-0484ec2364b4"
      },
      "id": "5pQTpc9qiOQW",
      "execution_count": null,
      "outputs": [
        {
          "output_type": "execute_result",
          "data": {
            "text/plain": [
              "['FYear',\n",
              " 'Year',\n",
              " 'Farm number',\n",
              " 'OFarm number',\n",
              " 'Total Useable Area (Hectares)',\n",
              " 'Grazed Area (Hectares)',\n",
              " 'Milk Sold (kg MS /cow)',\n",
              " 'Grazed Pasture',\n",
              " 'Conserved Feed',\n",
              " ' ',\n",
              " \"['gipps_max_grouped', '_33', '_37', '_46'] avge_max|Autumn\",\n",
              " \"['gipps_max_grouped', '_33', '_37', '_46'] avge_max|Spring\",\n",
              " \"['gipps_max_grouped', '_33', '_37', '_46'] avge_max|Summer\",\n",
              " \"['gipps_max_grouped', '_33', '_37', '_46'] avge_max|Winter\",\n",
              " \"['gipps_max_grouped', '_33', '_37', '_46'] avge_mean|Autumn\",\n",
              " \"['gipps_max_grouped', '_33', '_37', '_46'] avge_mean|Spring\",\n",
              " \"['gipps_max_grouped', '_33', '_37', '_46'] avge_mean|Summer\",\n",
              " \"['gipps_max_grouped', '_33', '_37', '_46'] avge_mean|Winter\",\n",
              " \"['gipps_max_grouped', '_33', '_37', '_46'] avge_min|Autumn\",\n",
              " \"['gipps_max_grouped', '_33', '_37', '_46'] avge_min|Spring\",\n",
              " \"['gipps_max_grouped', '_33', '_37', '_46'] avge_min|Summer\",\n",
              " \"['gipps_max_grouped', '_33', '_37', '_46'] avge_min|Winter\",\n",
              " \"['gipps_max_grouped', '_33', '_37', '_46'] avge_sum|Autumn\",\n",
              " \"['gipps_max_grouped', '_33', '_37', '_46'] avge_sum|Spring\",\n",
              " \"['gipps_max_grouped', '_33', '_37', '_46'] avge_sum|Summer\",\n",
              " \"['gipps_max_grouped', '_33', '_37', '_46'] avge_sum|Winter\",\n",
              " \"['gipps_min_grouped'] avge_max|Autumn\",\n",
              " \"['gipps_min_grouped'] avge_max|Spring\",\n",
              " \"['gipps_min_grouped'] avge_max|Summer\",\n",
              " \"['gipps_min_grouped'] avge_max|Winter\",\n",
              " \"['gipps_min_grouped'] avge_mean|Autumn\",\n",
              " \"['gipps_min_grouped'] avge_mean|Spring\",\n",
              " \"['gipps_min_grouped'] avge_mean|Summer\",\n",
              " \"['gipps_min_grouped'] avge_mean|Winter\",\n",
              " \"['gipps_min_grouped'] avge_min|Autumn\",\n",
              " \"['gipps_min_grouped'] avge_min|Spring\",\n",
              " \"['gipps_min_grouped'] avge_min|Summer\",\n",
              " \"['gipps_min_grouped'] avge_min|Winter\",\n",
              " \"['gipps_min_grouped'] avge_sum|Autumn\",\n",
              " \"['gipps_min_grouped'] avge_sum|Spring\",\n",
              " \"['gipps_min_grouped'] avge_sum|Summer\",\n",
              " \"['gipps_min_grouped'] avge_sum|Winter\",\n",
              " \"['gipps_rain_grouped'] avge_max|Autumn\",\n",
              " \"['gipps_rain_grouped'] avge_max|Spring\",\n",
              " \"['gipps_rain_grouped'] avge_max|Summer\",\n",
              " \"['gipps_rain_grouped'] avge_max|Winter\",\n",
              " \"['gipps_rain_grouped'] avge_mean|Autumn\",\n",
              " \"['gipps_rain_grouped'] avge_mean|Spring\",\n",
              " \"['gipps_rain_grouped'] avge_mean|Summer\",\n",
              " \"['gipps_rain_grouped'] avge_mean|Winter\",\n",
              " \"['gipps_rain_grouped'] avge_min|Autumn\",\n",
              " \"['gipps_rain_grouped'] avge_min|Spring\",\n",
              " \"['gipps_rain_grouped'] avge_min|Summer\",\n",
              " \"['gipps_rain_grouped'] avge_min|Winter\",\n",
              " \"['gipps_rain_grouped'] avge_sum|Autumn\",\n",
              " \"['gipps_rain_grouped'] avge_sum|Spring\",\n",
              " \"['gipps_rain_grouped'] avge_sum|Summer\",\n",
              " \"['gipps_rain_grouped'] avge_sum|Winter\",\n",
              " 'c30',\n",
              " 'count_1']"
            ]
          },
          "metadata": {},
          "execution_count": 260
        }
      ]
    },
    {
      "cell_type": "code",
      "source": [
        "bp = ax.boxplot(north_max_temp, patch_artist = True,\n",
        "                notch ='True', vert = 1\n",
        "                df.groupby('product')['sales'].plot(legend=True))"
      ],
      "metadata": {
        "id": "ypSZNjc9zMwZ"
      },
      "id": "ypSZNjc9zMwZ",
      "execution_count": null,
      "outputs": []
    },
    {
      "cell_type": "code",
      "source": [
        "gipps_all=pd.read_csv(\"gipps_all.csv\")\n",
        "gipps_finale_all=combine(gipps_max_grouped,gipps_min_grouped,gipps_rain_grouped,gipps_count,gipps_all)"
      ],
      "metadata": {
        "id": "IeYUBC9zzO7N"
      },
      "id": "IeYUBC9zzO7N",
      "execution_count": null,
      "outputs": []
    },
    {
      "cell_type": "code",
      "source": [
        "model_fe = fixedeffect(data_df = df,\n",
        "                      dependent = y,\n",
        "                      exog_x = exog_x,\n",
        "                      category = category,\n",
        "                      cluster = cluster)"
      ],
      "metadata": {
        "id": "DU4vvWn6zd01"
      },
      "id": "DU4vvWn6zd01",
      "execution_count": null,
      "outputs": []
    },
    {
      "cell_type": "code",
      "source": [
        "gipps_finale_all.to_csv(\"gipps_master.csv\")\n",
        "gipps_max_temp\n"
      ],
      "metadata": {
        "id": "f23sm-7C31JV"
      },
      "id": "f23sm-7C31JV",
      "execution_count": null,
      "outputs": []
    },
    {
      "cell_type": "code",
      "source": [
        "from google.colab import files\n",
        "!zip -r /content/final_data.zip /content/final_data\n",
        "files.download('/content/final_data.zip')"
      ],
      "metadata": {
        "colab": {
          "base_uri": "https://localhost:8080/",
          "height": 347
        },
        "id": "OyQEHE_RAwFJ",
        "outputId": "1be52eb2-ac75-4c4d-d120-4cb033ae4637"
      },
      "id": "OyQEHE_RAwFJ",
      "execution_count": null,
      "outputs": [
        {
          "output_type": "stream",
          "name": "stdout",
          "text": [
            "  adding: content/final_data/ (stored 0%)\n",
            "  adding: content/final_data/north_min_group.csv (deflated 64%)\n",
            "  adding: content/final_data/north_temp_grouped.csv (deflated 64%)\n",
            "  adding: content/final_data/sw_temp_grouped.csv (deflated 63%)\n",
            "  adding: content/final_data/sw_min_temp.csv (deflated 74%)\n",
            "  adding: content/final_data/gipps_min_group.csv (deflated 64%)\n",
            "  adding: content/final_data/north_csv_rain.csv (deflated 86%)\n",
            "  adding: content/final_data/north_rain_grp.csv (deflated 61%)\n",
            "  adding: content/final_data/north_max_temp.csv (deflated 75%)\n",
            "  adding: content/final_data/north_min_temp.csv (deflated 74%)\n",
            "  adding: content/final_data/gipps_csv_rain.csv (deflated 81%)\n",
            "  adding: content/final_data/sw_rain_grp.csv (deflated 64%)\n",
            "  adding: content/final_data/sw_max_temp.csv (deflated 76%)\n",
            "  adding: content/final_data/gipps_rain_grp.csv (deflated 65%)\n",
            "  adding: content/final_data/gipps_temp_grouped.csv (deflated 64%)\n",
            "  adding: content/final_data/gipps_max_temp.csv (deflated 74%)\n",
            "  adding: content/final_data/sw_min_group.csv (deflated 63%)\n",
            "  adding: content/final_data/southwest_csv_rain.csv (deflated 83%)\n",
            "  adding: content/final_data/gipps_min_temp.csv (deflated 73%)\n"
          ]
        },
        {
          "output_type": "display_data",
          "data": {
            "text/plain": [
              "<IPython.core.display.Javascript object>"
            ],
            "application/javascript": [
              "\n",
              "    async function download(id, filename, size) {\n",
              "      if (!google.colab.kernel.accessAllowed) {\n",
              "        return;\n",
              "      }\n",
              "      const div = document.createElement('div');\n",
              "      const label = document.createElement('label');\n",
              "      label.textContent = `Downloading \"${filename}\": `;\n",
              "      div.appendChild(label);\n",
              "      const progress = document.createElement('progress');\n",
              "      progress.max = size;\n",
              "      div.appendChild(progress);\n",
              "      document.body.appendChild(div);\n",
              "\n",
              "      const buffers = [];\n",
              "      let downloaded = 0;\n",
              "\n",
              "      const channel = await google.colab.kernel.comms.open(id);\n",
              "      // Send a message to notify the kernel that we're ready.\n",
              "      channel.send({})\n",
              "\n",
              "      for await (const message of channel.messages) {\n",
              "        // Send a message to notify the kernel that we're ready.\n",
              "        channel.send({})\n",
              "        if (message.buffers) {\n",
              "          for (const buffer of message.buffers) {\n",
              "            buffers.push(buffer);\n",
              "            downloaded += buffer.byteLength;\n",
              "            progress.value = downloaded;\n",
              "          }\n",
              "        }\n",
              "      }\n",
              "      const blob = new Blob(buffers, {type: 'application/binary'});\n",
              "      const a = document.createElement('a');\n",
              "      a.href = window.URL.createObjectURL(blob);\n",
              "      a.download = filename;\n",
              "      div.appendChild(a);\n",
              "      a.click();\n",
              "      div.remove();\n",
              "    }\n",
              "  "
            ]
          },
          "metadata": {}
        },
        {
          "output_type": "display_data",
          "data": {
            "text/plain": [
              "<IPython.core.display.Javascript object>"
            ],
            "application/javascript": [
              "download(\"download_264df91b-c766-4479-b44b-20036b2d966e\", \"final_data.zip\", 7503709)"
            ]
          },
          "metadata": {}
        }
      ]
    },
    {
      "cell_type": "markdown",
      "source": [
        "install.packages(\"fpp3\")\n",
        "install.packages(\"plm\")\n",
        "library(fpp3)\n",
        "library(plm)\n",
        "\n",
        "grun.fe <- plm(Milk_sold~count_1+Autumn_rain+Summer_max_temp+Autumn_max_temp+Winter_max_temp+Spring_max_temp+Winter_min_temp+Spring_min_temp, data = gipps_master,index=(c(\"Farm_number\",\"FYear\")) ,model = \"within\")\n",
        "grun.re <- plm(Milk_sold~count_1+Autumn_rain+Summer_max_temp+Autumn_max_temp+Winter_max_temp+Spring_max_temp+Winter_min_temp+Spring_min_temp, data = gipps_master,index=(c(\"Farm_number\",\"FYear\")) ,model = \"random\")\n",
        "summary(grun.fe)\n",
        "summary(grun.re)\n",
        "\n",
        "pwaldtest(grun.fe, test = \"F\")\n",
        "pwaldtest(grun.fe, test = \"Chisq\")\n",
        "phtest(grun.fe)\n"
      ],
      "metadata": {
        "id": "ql3udyc-BeEJ"
      },
      "id": "ql3udyc-BeEJ"
    }
  ],
  "metadata": {
    "colab": {
      "provenance": [],
      "include_colab_link": true
    },
    "kernelspec": {
      "display_name": "Python 3 (ipykernel)",
      "language": "python",
      "name": "python3"
    },
    "language_info": {
      "codemirror_mode": {
        "name": "ipython",
        "version": 3
      },
      "file_extension": ".py",
      "mimetype": "text/x-python",
      "name": "python",
      "nbconvert_exporter": "python",
      "pygments_lexer": "ipython3",
      "version": "3.9.12"
    }
  },
  "nbformat": 4,
  "nbformat_minor": 5
}